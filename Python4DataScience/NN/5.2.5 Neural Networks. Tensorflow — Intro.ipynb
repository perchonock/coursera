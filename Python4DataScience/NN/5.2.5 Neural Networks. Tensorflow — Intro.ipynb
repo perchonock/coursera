{
 "cells": [
  {
   "cell_type": "markdown",
   "metadata": {},
   "source": [
    "# Tensorflow Intro"
   ]
  },
  {
   "cell_type": "code",
   "execution_count": 1,
   "metadata": {},
   "outputs": [
    {
     "name": "stderr",
     "output_type": "stream",
     "text": [
      "/Users/itrechyokas/anaconda3/lib/python3.6/site-packages/h5py/__init__.py:36: FutureWarning: Conversion of the second argument of issubdtype from `float` to `np.floating` is deprecated. In future, it will be treated as `np.float64 == np.dtype(float).type`.\n",
      "  from ._conv import register_converters as _register_converters\n"
     ]
    }
   ],
   "source": [
    "import tensorflow as tf"
   ]
  },
  {
   "cell_type": "code",
   "execution_count": 2,
   "metadata": {},
   "outputs": [],
   "source": [
    "hello = tf.constant('Hello world!')"
   ]
  },
  {
   "cell_type": "code",
   "execution_count": 3,
   "metadata": {},
   "outputs": [
    {
     "name": "stdout",
     "output_type": "stream",
     "text": [
      "b'Hello world!'\n"
     ]
    }
   ],
   "source": [
    "sess = tf.Session()\n",
    "\n",
    "result = sess.run(hello)\n",
    "print(result)\n",
    "\n",
    "sess.close()"
   ]
  },
  {
   "cell_type": "code",
   "execution_count": 4,
   "metadata": {},
   "outputs": [
    {
     "name": "stdout",
     "output_type": "stream",
     "text": [
      "b'Hello world!'\n"
     ]
    }
   ],
   "source": [
    "with tf.Session() as sess:\n",
    "    result = sess.run(hello)\n",
    "    print(result)"
   ]
  },
  {
   "cell_type": "code",
   "execution_count": null,
   "metadata": {},
   "outputs": [],
   "source": []
  },
  {
   "cell_type": "code",
   "execution_count": 5,
   "metadata": {},
   "outputs": [],
   "source": [
    "a = tf.constant(2)\n",
    "b = tf.constant(3)\n",
    "\n",
    "c = tf.constant([1, 2, 3, 4])\n",
    "d = tf.constant([2, 3, 4, 5])"
   ]
  },
  {
   "cell_type": "code",
   "execution_count": 6,
   "metadata": {},
   "outputs": [
    {
     "name": "stdout",
     "output_type": "stream",
     "text": [
      "a = 2, b = 3, c = [1 2 3 4], d = [2 3 4 5]\n",
      "\n",
      "a + b = 5\n",
      "a * b = 6\n",
      "c + d = [3 5 7 9]\n",
      "c * d = [ 2  6 12 20]\n"
     ]
    }
   ],
   "source": [
    "with tf.Session() as sess:\n",
    "    print('a = {}, b = {}, c = {}, d = {}\\n'.format(\n",
    "        sess.run(a), sess.run(b),\n",
    "        sess.run(c), sess.run(d)\n",
    "    ))\n",
    "\n",
    "    print('a + b = {}\\n'\n",
    "          'a * b = {}'.format(sess.run(a + b), sess.run(a * b)))\n",
    "\n",
    "    print('c + d = {}\\n'\n",
    "          'c * d = {}'.format(sess.run(c + d), sess.run(c * d)))"
   ]
  },
  {
   "cell_type": "code",
   "execution_count": null,
   "metadata": {},
   "outputs": [],
   "source": []
  },
  {
   "cell_type": "code",
   "execution_count": 7,
   "metadata": {},
   "outputs": [],
   "source": [
    "a = tf.placeholder(tf.int16)\n",
    "b = tf.placeholder(tf.int16)"
   ]
  },
  {
   "cell_type": "code",
   "execution_count": 8,
   "metadata": {},
   "outputs": [],
   "source": [
    "add = tf.add(a, b)\n",
    "mul = tf.multiply(a, b)"
   ]
  },
  {
   "cell_type": "code",
   "execution_count": 9,
   "metadata": {},
   "outputs": [
    {
     "name": "stdout",
     "output_type": "stream",
     "text": [
      "a + b = 4\n",
      "a * b = 56\n"
     ]
    }
   ],
   "source": [
    "with tf.Session() as sess:\n",
    "    writer = tf.summary.FileWriter('logs', sess.graph)\n",
    "    # > tensorboard --logdir logs/\n",
    "\n",
    "    print('a + b = {}'.format(sess.run(add, feed_dict={a: 3, b: 1})))\n",
    "    print('a * b = {}'.format(sess.run(mul, feed_dict={a: 7, b: 8})))"
   ]
  },
  {
   "cell_type": "code",
   "execution_count": null,
   "metadata": {},
   "outputs": [],
   "source": []
  },
  {
   "cell_type": "code",
   "execution_count": null,
   "metadata": {},
   "outputs": [],
   "source": []
  },
  {
   "cell_type": "code",
   "execution_count": 10,
   "metadata": {},
   "outputs": [],
   "source": [
    "import matplotlib.pyplot as plt\n",
    "import numpy as np\n",
    "\n",
    "%matplotlib inline"
   ]
  },
  {
   "cell_type": "code",
   "execution_count": 11,
   "metadata": {},
   "outputs": [],
   "source": [
    "from sklearn.datasets import make_regression\n",
    "\n",
    "n_samples = 42\n",
    "\n",
    "x_train, y_train = make_regression(\n",
    "    n_samples=n_samples, n_features=1,\n",
    "    noise=15, random_state=7\n",
    ")\n",
    "x_train = (x_train - x_train.mean()) / x_train.std()\n",
    "y_train = (y_train - y_train.mean()) / y_train.std()"
   ]
  },
  {
   "cell_type": "code",
   "execution_count": 12,
   "metadata": {},
   "outputs": [
    {
     "name": "stdout",
     "output_type": "stream",
     "text": [
      "[[ 0.03264883]\n",
      " [ 2.00453732]\n",
      " [-0.09529635]\n",
      " [-0.29220736]\n",
      " [ 0.19354651]]\n"
     ]
    }
   ],
   "source": [
    "print(x_train[:5])"
   ]
  },
  {
   "cell_type": "code",
   "execution_count": 13,
   "metadata": {},
   "outputs": [],
   "source": [
    "X = tf.placeholder('float')\n",
    "Y = tf.placeholder('float')\n",
    "\n",
    "W = tf.Variable(np.random.randn(), name='weight')\n",
    "b = tf.Variable(np.random.randn(), name='bias')"
   ]
  },
  {
   "cell_type": "code",
   "execution_count": 14,
   "metadata": {},
   "outputs": [],
   "source": [
    "prediction = tf.add(tf.multiply(X, W), b)"
   ]
  },
  {
   "cell_type": "code",
   "execution_count": 15,
   "metadata": {},
   "outputs": [],
   "source": [
    "learning_rate = tf.placeholder(tf.float32, shape=[])\n",
    "\n",
    "cost = tf.reduce_sum(tf.pow(prediction - Y, 2)) / n_samples\n",
    "optimizer = tf.train.GradientDescentOptimizer(learning_rate).minimize(cost)"
   ]
  },
  {
   "cell_type": "code",
   "execution_count": 16,
   "metadata": {},
   "outputs": [],
   "source": [
    "init = tf.global_variables_initializer()"
   ]
  },
  {
   "cell_type": "code",
   "execution_count": null,
   "metadata": {},
   "outputs": [],
   "source": []
  },
  {
   "cell_type": "code",
   "execution_count": 17,
   "metadata": {},
   "outputs": [
    {
     "name": "stdout",
     "output_type": "stream",
     "text": [
      "Epoch #0: cost = 146.6855010986328\n",
      "Epoch #100: cost = 67.63678741455078\n",
      "Epoch #200: cost = 67.46207427978516\n",
      "Epoch #300: cost = 67.38158416748047\n",
      "Epoch #400: cost = 67.34589385986328\n",
      "Epoch #500: cost = 67.32942962646484\n",
      "Epoch #600: cost = 67.32154083251953\n",
      "Epoch #700: cost = 67.31766510009766\n",
      "Epoch #800: cost = 67.31455993652344\n",
      "Epoch #900: cost = 67.31415557861328\n"
     ]
    }
   ],
   "source": [
    "epochs = 1000\n",
    "sess = tf.Session()\n",
    "sess.run(init)\n",
    "\n",
    "lr = 0.1\n",
    "for epoch in range(epochs):\n",
    "    for (x_batch, y_batch) in zip(x_train, y_train):\n",
    "        sess.run(optimizer, feed_dict={X: x_batch, Y: y_batch, learning_rate: lr})\n",
    "\n",
    "    if epoch % 100 == 0:\n",
    "        lr /= 2\n",
    "        c = sess.run(cost, feed_dict={X: x_train, Y: y_train})\n",
    "        print('Epoch #{}: cost = {}'.format(epoch, c))"
   ]
  },
  {
   "cell_type": "code",
   "execution_count": 18,
   "metadata": {},
   "outputs": [
    {
     "data": {
      "image/png": "[encoded data removed]",
      "text/plain": [
       "<Figure size 432x288 with 1 Axes>"
      ]
     },
     "metadata": {},
     "output_type": "display_data"
    }
   ],
   "source": [
    "plt.plot(x_train, y_train, 'ro', label='Original data')\n",
    "plt.plot(x_train, sess.run(W) * x_train + sess.run(b), label='Fitted line')\n",
    "plt.legend()\n",
    "plt.show()"
   ]
  },
  {
   "cell_type": "code",
   "execution_count": 19,
   "metadata": {},
   "outputs": [],
   "source": [
    "sess.close()"
   ]
  }
 ],
 "metadata": {
  "kernelspec": {
   "display_name": "Python 3",
   "language": "python",
   "name": "python3"
  },
  "language_info": {
   "codemirror_mode": {
    "name": "ipython",
    "version": 3
   },
   "file_extension": ".py",
   "mimetype": "text/x-python",
   "name": "python",
   "nbconvert_exporter": "python",
   "pygments_lexer": "ipython3",
   "version": "3.6.8"
  }
 },
 "nbformat": 4,
 "nbformat_minor": 2
}
