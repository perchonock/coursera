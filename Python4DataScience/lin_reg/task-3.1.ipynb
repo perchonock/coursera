{
 "cells": [
  {
   "cell_type": "markdown",
   "metadata": {},
   "source": [
    "# Практическое задание"
   ]
  },
  {
   "cell_type": "markdown",
   "metadata": {},
   "source": [
    "В этом практическом задании мы поработаем с алгоритмом линейной регрессии и нормализацией признаков. Для начала загрузите данные из файла `data.csv`, который содержит 100 признаков f1, f2, ..., f100 и целевую переменную target. Для загрузки данных используете функцию `read_csv` из библиотеки `pandas`. Выделите матрицу признаков и целевую переменную из загруженных данных."
   ]
  },
  {
   "cell_type": "markdown",
   "metadata": {},
   "source": [
    "### *РЕШЕНИЕ*"
   ]
  },
  {
   "cell_type": "code",
   "execution_count": 124,
   "metadata": {},
   "outputs": [],
   "source": [
    "%matplotlib inline\n",
    "\n",
    "import matplotlib.pyplot as plt\n",
    "import numpy as np\n",
    "import pandas as pd\n",
    "import seaborn as sns"
   ]
  },
  {
   "cell_type": "code",
   "execution_count": 125,
   "metadata": {},
   "outputs": [],
   "source": [
    "from sklearn.model_selection import train_test_split\n",
    "from sklearn.linear_model import Ridge\n",
    "from sklearn.metrics import mean_squared_error\n"
   ]
  },
  {
   "cell_type": "code",
   "execution_count": 126,
   "metadata": {},
   "outputs": [],
   "source": [
    "data = pd.read_csv('data.csv')"
   ]
  },
  {
   "cell_type": "code",
   "execution_count": 127,
   "metadata": {},
   "outputs": [
    {
     "data": {
      "text/html": [
       "<div>\n",
       "<style scoped>\n",
       "    .dataframe tbody tr th:only-of-type {\n",
       "        vertical-align: middle;\n",
       "    }\n",
       "\n",
       "    .dataframe tbody tr th {\n",
       "        vertical-align: top;\n",
       "    }\n",
       "\n",
       "    .dataframe thead th {\n",
       "        text-align: right;\n",
       "    }\n",
       "</style>\n",
       "<table border=\"1\" class=\"dataframe\">\n",
       "  <thead>\n",
       "    <tr style=\"text-align: right;\">\n",
       "      <th></th>\n",
       "      <th>f1</th>\n",
       "      <th>f2</th>\n",
       "      <th>f3</th>\n",
       "      <th>f4</th>\n",
       "      <th>f5</th>\n",
       "      <th>f6</th>\n",
       "      <th>f7</th>\n",
       "      <th>f8</th>\n",
       "      <th>f9</th>\n",
       "      <th>f10</th>\n",
       "      <th>...</th>\n",
       "      <th>f92</th>\n",
       "      <th>f93</th>\n",
       "      <th>f94</th>\n",
       "      <th>f95</th>\n",
       "      <th>f96</th>\n",
       "      <th>f97</th>\n",
       "      <th>f98</th>\n",
       "      <th>f99</th>\n",
       "      <th>f100</th>\n",
       "      <th>target</th>\n",
       "    </tr>\n",
       "  </thead>\n",
       "  <tbody>\n",
       "    <tr>\n",
       "      <th>0</th>\n",
       "      <td>-1.979019</td>\n",
       "      <td>0.392456</td>\n",
       "      <td>1.195177</td>\n",
       "      <td>0.209349</td>\n",
       "      <td>-1.209435</td>\n",
       "      <td>0.868798</td>\n",
       "      <td>0.384209</td>\n",
       "      <td>-0.426571</td>\n",
       "      <td>-0.977939</td>\n",
       "      <td>-1.419877</td>\n",
       "      <td>...</td>\n",
       "      <td>-1.587188</td>\n",
       "      <td>-0.612423</td>\n",
       "      <td>-0.281845</td>\n",
       "      <td>-0.625773</td>\n",
       "      <td>-0.907327</td>\n",
       "      <td>-0.800223</td>\n",
       "      <td>0.065892</td>\n",
       "      <td>0.271684</td>\n",
       "      <td>-0.201420</td>\n",
       "      <td>-45.587910</td>\n",
       "    </tr>\n",
       "    <tr>\n",
       "      <th>1</th>\n",
       "      <td>0.613518</td>\n",
       "      <td>0.051946</td>\n",
       "      <td>0.238789</td>\n",
       "      <td>-0.071601</td>\n",
       "      <td>-0.080717</td>\n",
       "      <td>1.727543</td>\n",
       "      <td>-0.483886</td>\n",
       "      <td>0.635172</td>\n",
       "      <td>0.038003</td>\n",
       "      <td>1.573987</td>\n",
       "      <td>...</td>\n",
       "      <td>0.059630</td>\n",
       "      <td>0.120031</td>\n",
       "      <td>0.399223</td>\n",
       "      <td>0.494030</td>\n",
       "      <td>0.197600</td>\n",
       "      <td>0.652323</td>\n",
       "      <td>0.916328</td>\n",
       "      <td>-1.556582</td>\n",
       "      <td>-0.370614</td>\n",
       "      <td>137.329473</td>\n",
       "    </tr>\n",
       "    <tr>\n",
       "      <th>2</th>\n",
       "      <td>0.444198</td>\n",
       "      <td>-0.535317</td>\n",
       "      <td>0.664927</td>\n",
       "      <td>-0.327017</td>\n",
       "      <td>1.935154</td>\n",
       "      <td>-1.776012</td>\n",
       "      <td>0.207803</td>\n",
       "      <td>0.126178</td>\n",
       "      <td>0.252569</td>\n",
       "      <td>0.889037</td>\n",
       "      <td>...</td>\n",
       "      <td>0.195482</td>\n",
       "      <td>1.384532</td>\n",
       "      <td>0.522251</td>\n",
       "      <td>-0.127655</td>\n",
       "      <td>-0.403076</td>\n",
       "      <td>-0.111509</td>\n",
       "      <td>-0.183150</td>\n",
       "      <td>0.977816</td>\n",
       "      <td>-1.171654</td>\n",
       "      <td>141.355900</td>\n",
       "    </tr>\n",
       "    <tr>\n",
       "      <th>3</th>\n",
       "      <td>-1.485186</td>\n",
       "      <td>-0.101987</td>\n",
       "      <td>0.817982</td>\n",
       "      <td>-0.846498</td>\n",
       "      <td>-0.660834</td>\n",
       "      <td>-0.073107</td>\n",
       "      <td>-0.247340</td>\n",
       "      <td>-0.775607</td>\n",
       "      <td>1.015937</td>\n",
       "      <td>-1.075737</td>\n",
       "      <td>...</td>\n",
       "      <td>0.753417</td>\n",
       "      <td>-0.403380</td>\n",
       "      <td>0.087974</td>\n",
       "      <td>-1.525572</td>\n",
       "      <td>2.404838</td>\n",
       "      <td>0.011863</td>\n",
       "      <td>0.994299</td>\n",
       "      <td>-2.152914</td>\n",
       "      <td>-0.213593</td>\n",
       "      <td>-65.882640</td>\n",
       "    </tr>\n",
       "    <tr>\n",
       "      <th>4</th>\n",
       "      <td>0.276582</td>\n",
       "      <td>-0.208468</td>\n",
       "      <td>0.185689</td>\n",
       "      <td>0.508608</td>\n",
       "      <td>-1.527168</td>\n",
       "      <td>-1.373403</td>\n",
       "      <td>-0.481766</td>\n",
       "      <td>-2.854627</td>\n",
       "      <td>1.868818</td>\n",
       "      <td>-1.179460</td>\n",
       "      <td>...</td>\n",
       "      <td>-0.985540</td>\n",
       "      <td>0.419706</td>\n",
       "      <td>-0.610858</td>\n",
       "      <td>0.209534</td>\n",
       "      <td>-0.538048</td>\n",
       "      <td>0.164295</td>\n",
       "      <td>-0.984655</td>\n",
       "      <td>-0.598438</td>\n",
       "      <td>-0.887770</td>\n",
       "      <td>-333.409221</td>\n",
       "    </tr>\n",
       "  </tbody>\n",
       "</table>\n",
       "<p>5 rows × 101 columns</p>\n",
       "</div>"
      ],
      "text/plain": [
       "         f1        f2        f3        f4        f5        f6        f7  \\\n",
       "0 -1.979019  0.392456  1.195177  0.209349 -1.209435  0.868798  0.384209   \n",
       "1  0.613518  0.051946  0.238789 -0.071601 -0.080717  1.727543 -0.483886   \n",
       "2  0.444198 -0.535317  0.664927 -0.327017  1.935154 -1.776012  0.207803   \n",
       "3 -1.485186 -0.101987  0.817982 -0.846498 -0.660834 -0.073107 -0.247340   \n",
       "4  0.276582 -0.208468  0.185689  0.508608 -1.527168 -1.373403 -0.481766   \n",
       "\n",
       "         f8        f9       f10     ...           f92       f93       f94  \\\n",
       "0 -0.426571 -0.977939 -1.419877     ...     -1.587188 -0.612423 -0.281845   \n",
       "1  0.635172  0.038003  1.573987     ...      0.059630  0.120031  0.399223   \n",
       "2  0.126178  0.252569  0.889037     ...      0.195482  1.384532  0.522251   \n",
       "3 -0.775607  1.015937 -1.075737     ...      0.753417 -0.403380  0.087974   \n",
       "4 -2.854627  1.868818 -1.179460     ...     -0.985540  0.419706 -0.610858   \n",
       "\n",
       "        f95       f96       f97       f98       f99      f100      target  \n",
       "0 -0.625773 -0.907327 -0.800223  0.065892  0.271684 -0.201420  -45.587910  \n",
       "1  0.494030  0.197600  0.652323  0.916328 -1.556582 -0.370614  137.329473  \n",
       "2 -0.127655 -0.403076 -0.111509 -0.183150  0.977816 -1.171654  141.355900  \n",
       "3 -1.525572  2.404838  0.011863  0.994299 -2.152914 -0.213593  -65.882640  \n",
       "4  0.209534 -0.538048  0.164295 -0.984655 -0.598438 -0.887770 -333.409221  \n",
       "\n",
       "[5 rows x 101 columns]"
      ]
     },
     "execution_count": 127,
     "metadata": {},
     "output_type": "execute_result"
    }
   ],
   "source": [
    "data.head()"
   ]
  },
  {
   "cell_type": "code",
   "execution_count": 128,
   "metadata": {},
   "outputs": [],
   "source": [
    "X = data.iloc[:, :100]"
   ]
  },
  {
   "cell_type": "code",
   "execution_count": 130,
   "metadata": {},
   "outputs": [],
   "source": [
    "y = data.iloc[:, 100:]"
   ]
  },
  {
   "cell_type": "code",
   "execution_count": 132,
   "metadata": {},
   "outputs": [
    {
     "name": "stderr",
     "output_type": "stream",
     "text": [
      "/Users/itrechyokas/anaconda3/lib/python3.6/site-packages/scipy/stats/stats.py:1713: FutureWarning: Using a non-tuple sequence for multidimensional indexing is deprecated; use `arr[tuple(seq)]` instead of `arr[seq]`. In the future this will be interpreted as an array index, `arr[np.array(seq)]`, which will result either in an error or a different result.\n",
      "  return np.add.reduce(sorted[indexer] * weights, axis=axis) / sumval\n",
      "/Users/itrechyokas/anaconda3/lib/python3.6/site-packages/matplotlib/axes/_axes.py:6462: UserWarning: The 'normed' kwarg is deprecated, and has been replaced by the 'density' kwarg.\n",
      "  warnings.warn(\"The 'normed' kwarg is deprecated, and has been \"\n"
     ]
    },
    {
     "data": {
      "image/png": "[encoded data removed]",
      "text/plain": [
       "<Figure size 432x288 with 1 Axes>"
      ]
     },
     "metadata": {},
     "output_type": "display_data"
    }
   ],
   "source": [
    "plt.figure(figsize=(6, 4))\n",
    "sns.distplot(y)\n",
    "\n",
    "plt.tight_layout()"
   ]
  },
  {
   "cell_type": "markdown",
   "metadata": {},
   "source": [
    "Далее, разделите загруженный датасет на тренировочную и тестовую выборку. Для этого используйте функцию `train_test_split` из модуля `sklearn.model_selection` с параметрами `random_state=42` и `test_size=0.33`. Обучите линейную регрессию на тренировочных данных и оцените среднеквадратическую ошибку на тестовых данных. Один из вариантов линейной регрессии в `scikit-learn` представлен классом `Ridge` из `sklearn.linear_model`.\n",
    "Используйте параметр `random_state=42` в конструкторе класса при создании его экземпляра. Оценку среднеквадратичной ошибки проведите с помощью функции `mean_squared_error` из модуля `sklearn.metrics`. В качестве ответа `answer1` приведите это значение округлённое с точностью до двух знаков."
   ]
  },
  {
   "cell_type": "code",
   "execution_count": 133,
   "metadata": {},
   "outputs": [],
   "source": [
    "X_train, X_test, y_train, y_test = train_test_split(X, y, random_state=42, test_size=0.33)"
   ]
  },
  {
   "cell_type": "code",
   "execution_count": 134,
   "metadata": {},
   "outputs": [],
   "source": [
    "linear_regression = Ridge(random_state=42)"
   ]
  },
  {
   "cell_type": "code",
   "execution_count": 135,
   "metadata": {},
   "outputs": [],
   "source": [
    "model = linear_regression.fit(X_train, y_train)"
   ]
  },
  {
   "cell_type": "code",
   "execution_count": 136,
   "metadata": {},
   "outputs": [],
   "source": [
    "predicted_y = model.predict(X_test)"
   ]
  },
  {
   "cell_type": "code",
   "execution_count": 154,
   "metadata": {},
   "outputs": [
    {
     "data": {
      "text/plain": [
       "array([[ -15.32270816],\n",
       "       [-129.7391101 ],\n",
       "       [ 102.22966322],\n",
       "       [ 200.44003412],\n",
       "       [-233.14913305],\n",
       "       [  97.75088143],\n",
       "       [ 244.27617319],\n",
       "       [  99.87514912],\n",
       "       [ 208.76555175],\n",
       "       [-217.55127944]])"
      ]
     },
     "execution_count": 154,
     "metadata": {},
     "output_type": "execute_result"
    }
   ],
   "source": [
    "predicted_y[:10]"
   ]
  },
  {
   "cell_type": "code",
   "execution_count": 137,
   "metadata": {},
   "outputs": [],
   "source": [
    "MSE = mean_squared_error(y_test, predicted_y)"
   ]
  },
  {
   "cell_type": "code",
   "execution_count": 138,
   "metadata": {},
   "outputs": [
    {
     "data": {
      "text/plain": [
       "4921.8297211737"
      ]
     },
     "execution_count": 138,
     "metadata": {},
     "output_type": "execute_result"
    }
   ],
   "source": [
    "MSE"
   ]
  },
  {
   "cell_type": "code",
   "execution_count": 139,
   "metadata": {},
   "outputs": [],
   "source": [
    "answer1 = MSE"
   ]
  },
  {
   "cell_type": "code",
   "execution_count": 140,
   "metadata": {},
   "outputs": [
    {
     "data": {
      "image/png": "[encoded data removed]",
      "text/plain": [
       "<Figure size 432x288 with 1 Axes>"
      ]
     },
     "metadata": {},
     "output_type": "display_data"
    }
   ],
   "source": [
    "plt.figure(figsize=(6, 4))\n",
    "plt.scatter(predicted_y, y_test)\n",
    "plt.xlabel('Predicted')\n",
    "plt.ylabel('True value')\n",
    "\n",
    "plt.plot([0, 50], [0, 50], color=\"red\")\n",
    "plt.tight_layout()"
   ]
  },
  {
   "cell_type": "markdown",
   "metadata": {},
   "source": [
    "### *РЕШЕНИЕ*"
   ]
  },
  {
   "cell_type": "markdown",
   "metadata": {},
   "source": [
    "Далее вам предлагается нормализовать данные используя `StandardScaler` из `sklearn.preprocessing`. По своей сути операция нормализации в данном случае представляет из себя вычитание среднего из матрицы признаков и деление на среднеквадратическое отклонение. После этого, повторите процесс разбиения выборки на тренировочную и тестовую с теми же самыми параметрами и обучите линейную регрессию. Как изменилось качество на тестовых данных? Приведите значение среднеквадратической ошибки в качестве ответа `answer2` округлённое с точностью до двух знаков."
   ]
  },
  {
   "cell_type": "code",
   "execution_count": 141,
   "metadata": {},
   "outputs": [],
   "source": [
    "from sklearn.preprocessing import StandardScaler\n"
   ]
  },
  {
   "cell_type": "code",
   "execution_count": 161,
   "metadata": {},
   "outputs": [],
   "source": [
    "scaler = StandardScaler()\n",
    "scaler.fit(X)\n",
    "X_train_norm = scaler.transform(X_train)"
   ]
  },
  {
   "cell_type": "code",
   "execution_count": 162,
   "metadata": {},
   "outputs": [
    {
     "data": {
      "text/html": [
       "<div>\n",
       "<style scoped>\n",
       "    .dataframe tbody tr th:only-of-type {\n",
       "        vertical-align: middle;\n",
       "    }\n",
       "\n",
       "    .dataframe tbody tr th {\n",
       "        vertical-align: top;\n",
       "    }\n",
       "\n",
       "    .dataframe thead th {\n",
       "        text-align: right;\n",
       "    }\n",
       "</style>\n",
       "<table border=\"1\" class=\"dataframe\">\n",
       "  <thead>\n",
       "    <tr style=\"text-align: right;\">\n",
       "      <th></th>\n",
       "      <th>f1</th>\n",
       "      <th>f2</th>\n",
       "      <th>f3</th>\n",
       "      <th>f4</th>\n",
       "      <th>f5</th>\n",
       "      <th>f6</th>\n",
       "      <th>f7</th>\n",
       "      <th>f8</th>\n",
       "      <th>f9</th>\n",
       "      <th>f10</th>\n",
       "      <th>...</th>\n",
       "      <th>f91</th>\n",
       "      <th>f92</th>\n",
       "      <th>f93</th>\n",
       "      <th>f94</th>\n",
       "      <th>f95</th>\n",
       "      <th>f96</th>\n",
       "      <th>f97</th>\n",
       "      <th>f98</th>\n",
       "      <th>f99</th>\n",
       "      <th>f100</th>\n",
       "    </tr>\n",
       "  </thead>\n",
       "  <tbody>\n",
       "    <tr>\n",
       "      <th>9</th>\n",
       "      <td>1.392039</td>\n",
       "      <td>-0.664651</td>\n",
       "      <td>-1.42223</td>\n",
       "      <td>-1.941859</td>\n",
       "      <td>0.809265</td>\n",
       "      <td>-0.491562</td>\n",
       "      <td>-0.528947</td>\n",
       "      <td>0.856976</td>\n",
       "      <td>-0.516847</td>\n",
       "      <td>0.084094</td>\n",
       "      <td>...</td>\n",
       "      <td>-1.438411</td>\n",
       "      <td>0.958816</td>\n",
       "      <td>0.619033</td>\n",
       "      <td>-0.443263</td>\n",
       "      <td>-1.353755</td>\n",
       "      <td>1.212129</td>\n",
       "      <td>-0.432295</td>\n",
       "      <td>0.880066</td>\n",
       "      <td>0.357661</td>\n",
       "      <td>-1.499181</td>\n",
       "    </tr>\n",
       "  </tbody>\n",
       "</table>\n",
       "<p>1 rows × 100 columns</p>\n",
       "</div>"
      ],
      "text/plain": [
       "         f1        f2       f3        f4        f5        f6        f7  \\\n",
       "9  1.392039 -0.664651 -1.42223 -1.941859  0.809265 -0.491562 -0.528947   \n",
       "\n",
       "         f8        f9       f10    ...          f91       f92       f93  \\\n",
       "9  0.856976 -0.516847  0.084094    ...    -1.438411  0.958816  0.619033   \n",
       "\n",
       "        f94       f95       f96       f97       f98       f99      f100  \n",
       "9 -0.443263 -1.353755  1.212129 -0.432295  0.880066  0.357661 -1.499181  \n",
       "\n",
       "[1 rows x 100 columns]"
      ]
     },
     "execution_count": 162,
     "metadata": {},
     "output_type": "execute_result"
    }
   ],
   "source": [
    "X_train[:1]"
   ]
  },
  {
   "cell_type": "code",
   "execution_count": 163,
   "metadata": {},
   "outputs": [
    {
     "data": {
      "text/plain": [
       "array([[ 1.46204078, -0.65727072, -1.29125422, -1.96497924,  0.72438107,\n",
       "        -0.50268867, -0.41952587,  0.79947005, -0.36967486,  0.1198013 ,\n",
       "         2.7396327 ,  1.06255342, -0.10083888,  2.30815242,  0.46935348,\n",
       "        -1.57898442, -1.67141489,  1.18268353,  0.11616593,  1.03900147,\n",
       "        -0.41810647,  1.11973274, -0.13309712, -0.86706543, -0.23865188,\n",
       "         1.26220931, -0.87017615,  0.09235458, -2.0952066 , -0.66531691,\n",
       "         0.89757784,  1.31040741,  1.23710758, -0.13924324,  0.90339918,\n",
       "         0.89224141,  0.13741326, -0.23264873,  1.28758523, -1.63309103,\n",
       "        -0.22448689, -0.09273007, -0.34495566, -0.07737524,  0.15024374,\n",
       "        -1.16964621, -0.05040262, -0.05100412,  1.34463463,  0.78259594,\n",
       "         0.03439397,  1.83744008, -1.96963886, -0.80013039, -0.34229653,\n",
       "         1.22351228, -1.29615972,  0.08028967, -1.13455697, -0.16417349,\n",
       "         1.2000378 ,  0.76288218, -0.30184909,  2.03451142, -1.22878987,\n",
       "        -0.9576799 , -0.01409889,  1.3889581 ,  1.01929535,  0.63431907,\n",
       "        -0.3613175 , -0.39188161, -0.63266763, -1.28635527,  0.65788765,\n",
       "        -0.13256745,  0.79770803, -1.92477867, -0.18570597, -0.07433859,\n",
       "         0.98230215, -0.27144531, -0.19138982, -1.44243895,  0.07784826,\n",
       "        -2.54026632,  1.93517914, -0.0130628 ,  0.86829218, -1.27742901,\n",
       "        -1.59271384,  0.95861045,  0.52060633, -0.50849656, -1.28815383,\n",
       "         1.03866252, -0.30744848,  0.88034334,  0.39841667, -1.86290761]])"
      ]
     },
     "execution_count": 163,
     "metadata": {},
     "output_type": "execute_result"
    }
   ],
   "source": [
    "X_train_norm[:1]"
   ]
  },
  {
   "cell_type": "code",
   "execution_count": 164,
   "metadata": {},
   "outputs": [],
   "source": [
    "model2 = linear_regression.fit(X_train_norm, y_train)"
   ]
  },
  {
   "cell_type": "code",
   "execution_count": 165,
   "metadata": {},
   "outputs": [],
   "source": [
    "X_test_norm = scaler.transform(X_test)"
   ]
  },
  {
   "cell_type": "code",
   "execution_count": 166,
   "metadata": {},
   "outputs": [],
   "source": [
    "predicted_y2 = model2.predict(X_test_norm)"
   ]
  },
  {
   "cell_type": "code",
   "execution_count": 167,
   "metadata": {},
   "outputs": [
    {
     "data": {
      "text/plain": [
       "array([[ -14.03914333],\n",
       "       [-126.50426079],\n",
       "       [ 113.3786442 ],\n",
       "       [ 192.52984504],\n",
       "       [-218.84323781],\n",
       "       [ 104.47208484],\n",
       "       [ 238.53232017],\n",
       "       [  98.09828176],\n",
       "       [ 201.0751578 ],\n",
       "       [-228.11165228]])"
      ]
     },
     "execution_count": 167,
     "metadata": {},
     "output_type": "execute_result"
    }
   ],
   "source": [
    "predicted_y2[:10]"
   ]
  },
  {
   "cell_type": "code",
   "execution_count": 168,
   "metadata": {},
   "outputs": [],
   "source": [
    "MSE2 = mean_squared_error(y_test, predicted_y2)"
   ]
  },
  {
   "cell_type": "code",
   "execution_count": 169,
   "metadata": {},
   "outputs": [
    {
     "data": {
      "text/plain": [
       "4464.79246571916"
      ]
     },
     "execution_count": 169,
     "metadata": {},
     "output_type": "execute_result"
    }
   ],
   "source": [
    "MSE2"
   ]
  },
  {
   "cell_type": "code",
   "execution_count": 170,
   "metadata": {},
   "outputs": [],
   "source": [
    "answer2 = MSE2"
   ]
  },
  {
   "cell_type": "code",
   "execution_count": 171,
   "metadata": {},
   "outputs": [
    {
     "data": {
      "image/png": "[encoded data removed]",
      "text/plain": [
       "<Figure size 432x288 with 1 Axes>"
      ]
     },
     "metadata": {},
     "output_type": "display_data"
    }
   ],
   "source": [
    "plt.figure(figsize=(6, 4))\n",
    "plt.scatter(predicted_y2, y_test)\n",
    "plt.xlabel('Predicted')\n",
    "plt.ylabel('True value')\n",
    "\n",
    "plt.plot([0, 50], [0, 50], color=\"red\")\n",
    "plt.tight_layout()"
   ]
  },
  {
   "cell_type": "markdown",
   "metadata": {},
   "source": [
    "## Строка с ответами"
   ]
  },
  {
   "cell_type": "code",
   "execution_count": 172,
   "metadata": {},
   "outputs": [
    {
     "name": "stdout",
     "output_type": "stream",
     "text": [
      "mse 1: 4921.83\n",
      "mse 2: 4464.79\n"
     ]
    }
   ],
   "source": [
    "print('mse 1: {0:.2f}\\nmse 2: {1:.2f}'.format(answer1, answer2))"
   ]
  }
 ],
 "metadata": {
  "kernelspec": {
   "display_name": "Python 3",
   "language": "python",
   "name": "python3"
  },
  "language_info": {
   "codemirror_mode": {
    "name": "ipython",
    "version": 3
   },
   "file_extension": ".py",
   "mimetype": "text/x-python",
   "name": "python",
   "nbconvert_exporter": "python",
   "pygments_lexer": "ipython3",
   "version": "3.6.8"
  }
 },
 "nbformat": 4,
 "nbformat_minor": 2
}
