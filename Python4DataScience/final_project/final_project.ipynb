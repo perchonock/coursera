{
 "cells": [
  {
   "cell_type": "code",
   "execution_count": 1,
   "metadata": {},
   "outputs": [],
   "source": [
    "#  For reproducing results\n",
    "from numpy.random import seed\n",
    "seed(42)\n",
    "from tensorflow import set_random_seed\n",
    "set_random_seed(42)"
   ]
  },
  {
   "cell_type": "code",
   "execution_count": 2,
   "metadata": {},
   "outputs": [],
   "source": [
    "import pandas as pd\n",
    "import tensorflow as tf\n",
    "import matplotlib.pyplot as plt\n",
    "import numpy as np\n",
    "\n",
    "from sklearn.model_selection import train_test_split\n",
    "\n",
    "%matplotlib inline"
   ]
  },
  {
   "cell_type": "code",
   "execution_count": 3,
   "metadata": {},
   "outputs": [],
   "source": [
    "# Might help if the notebook kernel dies\n",
    "import os\n",
    "os.environ['KMP_DUPLICATE_LIB_OK']='True'"
   ]
  },
  {
   "cell_type": "markdown",
   "metadata": {},
   "source": [
    "# Подготовка данных"
   ]
  },
  {
   "cell_type": "code",
   "execution_count": 4,
   "metadata": {},
   "outputs": [],
   "source": [
    "train_set = pd.read_csv('fashion-mnist_train.csv')\n",
    "test_set = pd.read_csv('fashion-mnist_test.csv')"
   ]
  },
  {
   "cell_type": "code",
   "execution_count": 5,
   "metadata": {},
   "outputs": [],
   "source": [
    "X_train = train_set.loc[:, train_set.columns != 'label'] \n",
    "X_test = test_set.loc[:, test_set.columns != 'label'] "
   ]
  },
  {
   "cell_type": "code",
   "execution_count": 6,
   "metadata": {},
   "outputs": [],
   "source": [
    "y_train = train_set['label']\n",
    "y_test = test_set['label']"
   ]
  },
  {
   "cell_type": "code",
   "execution_count": 7,
   "metadata": {},
   "outputs": [],
   "source": [
    "X_train = X_train.astype('float32')\n",
    "X_test = X_test.astype('float32')"
   ]
  },
  {
   "cell_type": "code",
   "execution_count": 8,
   "metadata": {},
   "outputs": [],
   "source": [
    "# Normalizing data\n",
    "X_train /= 255\n",
    "X_test /= 255"
   ]
  },
  {
   "cell_type": "code",
   "execution_count": 9,
   "metadata": {},
   "outputs": [],
   "source": [
    "# Transforming labels into one-hot vectors\n",
    "num_classes = 10\n",
    "y_train = tf.keras.utils.to_categorical(y_train, num_classes)\n",
    "y_test = tf.keras.utils.to_categorical(y_test, num_classes)"
   ]
  },
  {
   "cell_type": "code",
   "execution_count": 10,
   "metadata": {},
   "outputs": [],
   "source": [
    "X_train, X_val, y_train, y_val = train_test_split(X_train, y_train, random_state=42, test_size=0.1)"
   ]
  },
  {
   "cell_type": "code",
   "execution_count": 11,
   "metadata": {},
   "outputs": [],
   "source": [
    "batch_size = 512\n",
    "epochs=20"
   ]
  },
  {
   "cell_type": "markdown",
   "metadata": {},
   "source": [
    "# Logistic regression"
   ]
  },
  {
   "cell_type": "code",
   "execution_count": 12,
   "metadata": {},
   "outputs": [],
   "source": [
    "model_name = 'log_regression'\n",
    "tensorboard = tf.keras.callbacks.TensorBoard(log_dir=f'./logs/{model_name}')"
   ]
  },
  {
   "cell_type": "code",
   "execution_count": 13,
   "metadata": {},
   "outputs": [],
   "source": [
    "lr_model = tf.keras.models.Sequential()\n",
    "lr_model.add(tf.keras.layers.Dense(num_classes, activation='softmax', input_shape=(784,)))"
   ]
  },
  {
   "cell_type": "code",
   "execution_count": 14,
   "metadata": {},
   "outputs": [],
   "source": [
    "lr_model.compile(\n",
    "    loss='categorical_crossentropy',\n",
    "    optimizer='sgd',\n",
    "    metrics=['accuracy']\n",
    ")"
   ]
  },
  {
   "cell_type": "code",
   "execution_count": 15,
   "metadata": {},
   "outputs": [
    {
     "name": "stdout",
     "output_type": "stream",
     "text": [
      "Train on 54000 samples, validate on 6000 samples\n",
      "Epoch 1/20\n",
      "54000/54000 [==============================] - 2s 36us/step - loss: 1.6539 - acc: 0.5159 - val_loss: 1.2969 - val_acc: 0.6538\n",
      "Epoch 2/20\n",
      "54000/54000 [==============================] - 1s 27us/step - loss: 1.1670 - acc: 0.6685 - val_loss: 1.0514 - val_acc: 0.6922\n",
      "Epoch 3/20\n",
      "54000/54000 [==============================] - 1s 26us/step - loss: 1.0013 - acc: 0.6943 - val_loss: 0.9376 - val_acc: 0.7123\n",
      "Epoch 4/20\n",
      "54000/54000 [==============================] - 1s 26us/step - loss: 0.9136 - acc: 0.7129 - val_loss: 0.8702 - val_acc: 0.7275\n",
      "Epoch 5/20\n",
      "54000/54000 [==============================] - 1s 26us/step - loss: 0.8569 - acc: 0.7282 - val_loss: 0.8217 - val_acc: 0.7440\n",
      "Epoch 6/20\n",
      "54000/54000 [==============================] - 1s 26us/step - loss: 0.8160 - acc: 0.7411 - val_loss: 0.7863 - val_acc: 0.7525\n",
      "Epoch 7/20\n",
      "54000/54000 [==============================] - 1s 27us/step - loss: 0.7847 - acc: 0.7503 - val_loss: 0.7592 - val_acc: 0.7628\n",
      "Epoch 8/20\n",
      "54000/54000 [==============================] - 2s 28us/step - loss: 0.7596 - acc: 0.7592 - val_loss: 0.7362 - val_acc: 0.7680\n",
      "Epoch 9/20\n",
      "54000/54000 [==============================] - 1s 26us/step - loss: 0.7387 - acc: 0.7665 - val_loss: 0.7173 - val_acc: 0.7748\n",
      "Epoch 10/20\n",
      "54000/54000 [==============================] - 1s 26us/step - loss: 0.7210 - acc: 0.7719 - val_loss: 0.7005 - val_acc: 0.7775\n",
      "Epoch 11/20\n",
      "54000/54000 [==============================] - 1s 26us/step - loss: 0.7057 - acc: 0.7771 - val_loss: 0.6864 - val_acc: 0.7810\n",
      "Epoch 12/20\n",
      "54000/54000 [==============================] - 1s 26us/step - loss: 0.6925 - acc: 0.7796 - val_loss: 0.6737 - val_acc: 0.7840\n",
      "Epoch 13/20\n",
      "54000/54000 [==============================] - 1s 26us/step - loss: 0.6807 - acc: 0.7833 - val_loss: 0.6630 - val_acc: 0.7892\n",
      "Epoch 14/20\n",
      "54000/54000 [==============================] - 1s 26us/step - loss: 0.6702 - acc: 0.7871 - val_loss: 0.6524 - val_acc: 0.7900\n",
      "Epoch 15/20\n",
      "54000/54000 [==============================] - 1s 26us/step - loss: 0.6607 - acc: 0.7893 - val_loss: 0.6434 - val_acc: 0.7948\n",
      "Epoch 16/20\n",
      "54000/54000 [==============================] - 1s 26us/step - loss: 0.6521 - acc: 0.7923 - val_loss: 0.6353 - val_acc: 0.7957\n",
      "Epoch 17/20\n",
      "54000/54000 [==============================] - 1s 27us/step - loss: 0.6442 - acc: 0.7945 - val_loss: 0.6279 - val_acc: 0.7983\n",
      "Epoch 18/20\n",
      "54000/54000 [==============================] - 1s 27us/step - loss: 0.6369 - acc: 0.7972 - val_loss: 0.6210 - val_acc: 0.7997\n",
      "Epoch 19/20\n",
      "54000/54000 [==============================] - 1s 26us/step - loss: 0.6303 - acc: 0.7990 - val_loss: 0.6151 - val_acc: 0.8003\n",
      "Epoch 20/20\n",
      "54000/54000 [==============================] - 1s 27us/step - loss: 0.6242 - acc: 0.8006 - val_loss: 0.6085 - val_acc: 0.8048\n"
     ]
    },
    {
     "data": {
      "text/plain": [
       "<tensorflow.python.keras.callbacks.History at 0x108ef52e8>"
      ]
     },
     "execution_count": 15,
     "metadata": {},
     "output_type": "execute_result"
    }
   ],
   "source": [
    "lr_model.fit(\n",
    "    X_train, y_train,\n",
    "    batch_size=batch_size,\n",
    "    epochs=epochs,\n",
    "    verbose=1,\n",
    "    validation_data=(X_val, y_val),\n",
    "    callbacks=[tensorboard]\n",
    ")"
   ]
  },
  {
   "cell_type": "code",
   "execution_count": 16,
   "metadata": {},
   "outputs": [
    {
     "name": "stdout",
     "output_type": "stream",
     "text": [
      "Test loss: 0.6085037322044372\n",
      "Test accuracy: 0.8048333333333333\n"
     ]
    }
   ],
   "source": [
    "loss, accuracy = lr_model.evaluate(X_val, y_val, verbose=0)\n",
    "print('Test loss:', loss)\n",
    "print('Test accuracy:', accuracy)"
   ]
  },
  {
   "cell_type": "markdown",
   "metadata": {},
   "source": [
    "# Fully Connected Neural Network"
   ]
  },
  {
   "cell_type": "code",
   "execution_count": 17,
   "metadata": {},
   "outputs": [],
   "source": [
    "# Model from the 5.2.6 lecture but without drop-out\n",
    "model_name = 'NN_1'\n",
    "tensorboard = tf.keras.callbacks.TensorBoard(log_dir=f'./logs/{model_name}')\n",
    "\n",
    "NN_model = tf.keras.models.Sequential()\n",
    "NN_model.add(tf.keras.layers.Dense(512, activation='relu', input_shape=(784,)))\n",
    "NN_model.add(tf.keras.layers.Dense(512, activation='relu'))\n",
    "NN_model.add(tf.keras.layers.Dense(num_classes, activation='softmax'))"
   ]
  },
  {
   "cell_type": "code",
   "execution_count": 18,
   "metadata": {},
   "outputs": [
    {
     "name": "stdout",
     "output_type": "stream",
     "text": [
      "Train on 54000 samples, validate on 6000 samples\n",
      "Epoch 1/20\n",
      "54000/54000 [==============================] - 7s 129us/step - loss: 0.5923 - acc: 0.7939 - val_loss: 0.3991 - val_acc: 0.8607\n",
      "Epoch 2/20\n",
      "54000/54000 [==============================] - 6s 113us/step - loss: 0.3926 - acc: 0.8600 - val_loss: 0.3592 - val_acc: 0.8703\n",
      "Epoch 3/20\n",
      "54000/54000 [==============================] - 6s 116us/step - loss: 0.3455 - acc: 0.8750 - val_loss: 0.3313 - val_acc: 0.8830\n",
      "Epoch 4/20\n",
      "54000/54000 [==============================] - 6s 114us/step - loss: 0.3117 - acc: 0.8866 - val_loss: 0.3215 - val_acc: 0.8825\n",
      "Epoch 5/20\n",
      "54000/54000 [==============================] - 6s 119us/step - loss: 0.2935 - acc: 0.8923 - val_loss: 0.3162 - val_acc: 0.8777\n",
      "Epoch 6/20\n",
      "54000/54000 [==============================] - 7s 121us/step - loss: 0.2794 - acc: 0.8988 - val_loss: 0.3083 - val_acc: 0.8902\n",
      "Epoch 7/20\n",
      "54000/54000 [==============================] - 6s 119us/step - loss: 0.2622 - acc: 0.9033 - val_loss: 0.2990 - val_acc: 0.8890\n",
      "Epoch 8/20\n",
      "54000/54000 [==============================] - 6s 116us/step - loss: 0.2495 - acc: 0.9074 - val_loss: 0.3047 - val_acc: 0.8882\n",
      "Epoch 9/20\n",
      "54000/54000 [==============================] - 7s 131us/step - loss: 0.2381 - acc: 0.9119 - val_loss: 0.3051 - val_acc: 0.8893\n",
      "Epoch 10/20\n",
      "54000/54000 [==============================] - 6s 115us/step - loss: 0.2258 - acc: 0.9158 - val_loss: 0.2962 - val_acc: 0.8908\n",
      "Epoch 11/20\n",
      "54000/54000 [==============================] - 6s 117us/step - loss: 0.2197 - acc: 0.9183 - val_loss: 0.2983 - val_acc: 0.8923\n",
      "Epoch 12/20\n",
      "54000/54000 [==============================] - 6s 114us/step - loss: 0.2094 - acc: 0.9208 - val_loss: 0.2899 - val_acc: 0.8962\n",
      "Epoch 13/20\n",
      "54000/54000 [==============================] - 6s 116us/step - loss: 0.2011 - acc: 0.9253 - val_loss: 0.2967 - val_acc: 0.8950\n",
      "Epoch 14/20\n",
      "54000/54000 [==============================] - 6s 114us/step - loss: 0.1896 - acc: 0.9296 - val_loss: 0.3352 - val_acc: 0.8888\n",
      "Epoch 15/20\n",
      "54000/54000 [==============================] - 6s 114us/step - loss: 0.1819 - acc: 0.9330 - val_loss: 0.2949 - val_acc: 0.8940\n",
      "Epoch 16/20\n",
      "54000/54000 [==============================] - 6s 115us/step - loss: 0.1780 - acc: 0.9331 - val_loss: 0.3028 - val_acc: 0.8977\n",
      "Epoch 17/20\n",
      "54000/54000 [==============================] - 6s 114us/step - loss: 0.1668 - acc: 0.9380 - val_loss: 0.3459 - val_acc: 0.8892\n",
      "Epoch 18/20\n",
      "54000/54000 [==============================] - 6s 117us/step - loss: 0.1664 - acc: 0.9370 - val_loss: 0.3034 - val_acc: 0.8918\n",
      "Epoch 19/20\n",
      "54000/54000 [==============================] - 6s 114us/step - loss: 0.1537 - acc: 0.9426 - val_loss: 0.3101 - val_acc: 0.8992\n",
      "Epoch 20/20\n",
      "54000/54000 [==============================] - 6s 114us/step - loss: 0.1541 - acc: 0.9420 - val_loss: 0.3537 - val_acc: 0.8827\n"
     ]
    },
    {
     "data": {
      "text/plain": [
       "<tensorflow.python.keras.callbacks.History at 0x1a38fa8390>"
      ]
     },
     "execution_count": 18,
     "metadata": {},
     "output_type": "execute_result"
    }
   ],
   "source": [
    "NN_model.compile(\n",
    "    loss='categorical_crossentropy',\n",
    "    optimizer=tf.keras.optimizers.Adam(),\n",
    "    metrics=['accuracy']\n",
    ")\n",
    "\n",
    "NN_model.fit(\n",
    "    X_train, y_train,\n",
    "    batch_size=batch_size,\n",
    "    epochs=epochs,\n",
    "    verbose=1,\n",
    "    validation_data=(X_val, y_val),\n",
    "    callbacks=[tensorboard]\n",
    ")"
   ]
  },
  {
   "cell_type": "code",
   "execution_count": 19,
   "metadata": {},
   "outputs": [
    {
     "name": "stdout",
     "output_type": "stream",
     "text": [
      "Test loss: 0.35368617677688596\n",
      "Test accuracy: 0.8826666666666667\n"
     ]
    }
   ],
   "source": [
    "loss, accuracy = NN_model.evaluate(X_val, y_val, verbose=0)\n",
    "print('Test loss:', loss)\n",
    "print('Test accuracy:', accuracy)"
   ]
  },
  {
   "cell_type": "code",
   "execution_count": null,
   "metadata": {},
   "outputs": [],
   "source": []
  },
  {
   "cell_type": "code",
   "execution_count": 20,
   "metadata": {},
   "outputs": [],
   "source": [
    "# Adding drop-out\n",
    "model_name = 'NN_2'\n",
    "tensorboard = tf.keras.callbacks.TensorBoard(log_dir=f'./logs/{model_name}')\n",
    "\n",
    "NN_model2 = tf.keras.models.Sequential()\n",
    "NN_model2.add(tf.keras.layers.Dense(512, activation='relu', input_shape=(784,)))\n",
    "NN_model2.add(tf.keras.layers.Dropout(0.2))\n",
    "NN_model2.add(tf.keras.layers.Dense(512, activation='relu'))\n",
    "NN_model2.add(tf.keras.layers.Dropout(0.2))\n",
    "NN_model2.add(tf.keras.layers.Dense(num_classes, activation='softmax'))"
   ]
  },
  {
   "cell_type": "code",
   "execution_count": 21,
   "metadata": {},
   "outputs": [
    {
     "name": "stdout",
     "output_type": "stream",
     "text": [
      "Train on 54000 samples, validate on 6000 samples\n",
      "Epoch 1/20\n",
      "54000/54000 [==============================] - 10s 191us/step - loss: 0.6364 - acc: 0.7731 - val_loss: 0.4157 - val_acc: 0.8543\n",
      "Epoch 2/20\n",
      "54000/54000 [==============================] - 9s 173us/step - loss: 0.4132 - acc: 0.8511 - val_loss: 0.3660 - val_acc: 0.8650\n",
      "Epoch 3/20\n",
      "54000/54000 [==============================] - 9s 174us/step - loss: 0.3707 - acc: 0.8653 - val_loss: 0.3362 - val_acc: 0.8772\n",
      "Epoch 4/20\n",
      "54000/54000 [==============================] - 9s 173us/step - loss: 0.3435 - acc: 0.8747 - val_loss: 0.3359 - val_acc: 0.8755\n",
      "Epoch 5/20\n",
      "54000/54000 [==============================] - 9s 173us/step - loss: 0.3267 - acc: 0.8800 - val_loss: 0.3186 - val_acc: 0.8822\n",
      "Epoch 6/20\n",
      "54000/54000 [==============================] - 9s 171us/step - loss: 0.3047 - acc: 0.8880 - val_loss: 0.3057 - val_acc: 0.8875\n",
      "Epoch 7/20\n",
      "54000/54000 [==============================] - 9s 173us/step - loss: 0.2951 - acc: 0.8917 - val_loss: 0.2976 - val_acc: 0.8887\n",
      "Epoch 8/20\n",
      "54000/54000 [==============================] - 9s 175us/step - loss: 0.2851 - acc: 0.8944 - val_loss: 0.3001 - val_acc: 0.8913\n",
      "Epoch 9/20\n",
      "54000/54000 [==============================] - 9s 171us/step - loss: 0.2765 - acc: 0.8982 - val_loss: 0.2876 - val_acc: 0.8957\n",
      "Epoch 10/20\n",
      "54000/54000 [==============================] - 9s 173us/step - loss: 0.2643 - acc: 0.9009 - val_loss: 0.2919 - val_acc: 0.8963\n",
      "Epoch 11/20\n",
      "54000/54000 [==============================] - 9s 172us/step - loss: 0.2555 - acc: 0.9044 - val_loss: 0.2865 - val_acc: 0.8978\n",
      "Epoch 12/20\n",
      "54000/54000 [==============================] - 9s 172us/step - loss: 0.2534 - acc: 0.9059 - val_loss: 0.3100 - val_acc: 0.8923\n",
      "Epoch 13/20\n",
      "54000/54000 [==============================] - 10s 177us/step - loss: 0.2465 - acc: 0.9083 - val_loss: 0.2857 - val_acc: 0.8942\n",
      "Epoch 14/20\n",
      "54000/54000 [==============================] - 9s 173us/step - loss: 0.2394 - acc: 0.9100 - val_loss: 0.2830 - val_acc: 0.9022\n",
      "Epoch 15/20\n",
      "54000/54000 [==============================] - 9s 173us/step - loss: 0.2328 - acc: 0.9132 - val_loss: 0.2929 - val_acc: 0.8935\n",
      "Epoch 16/20\n",
      "54000/54000 [==============================] - 9s 172us/step - loss: 0.2259 - acc: 0.9151 - val_loss: 0.2848 - val_acc: 0.8988\n",
      "Epoch 17/20\n",
      "54000/54000 [==============================] - 9s 175us/step - loss: 0.2201 - acc: 0.9171 - val_loss: 0.2879 - val_acc: 0.8962\n",
      "Epoch 18/20\n",
      "54000/54000 [==============================] - 10s 181us/step - loss: 0.2175 - acc: 0.9177 - val_loss: 0.2860 - val_acc: 0.8948\n",
      "Epoch 19/20\n",
      "54000/54000 [==============================] - 9s 173us/step - loss: 0.2116 - acc: 0.9199 - val_loss: 0.2963 - val_acc: 0.8935\n",
      "Epoch 20/20\n",
      "54000/54000 [==============================] - 9s 174us/step - loss: 0.2088 - acc: 0.9222 - val_loss: 0.2799 - val_acc: 0.8980\n"
     ]
    },
    {
     "data": {
      "text/plain": [
       "<tensorflow.python.keras.callbacks.History at 0x1a4ea9def0>"
      ]
     },
     "execution_count": 21,
     "metadata": {},
     "output_type": "execute_result"
    }
   ],
   "source": [
    "NN_model2.compile(\n",
    "    loss='categorical_crossentropy',\n",
    "    optimizer=tf.keras.optimizers.Adam(),\n",
    "    metrics=['accuracy']\n",
    ")\n",
    "\n",
    "NN_model2.fit(\n",
    "    X_train, y_train,\n",
    "    batch_size=batch_size,\n",
    "    epochs=epochs,\n",
    "    verbose=1,\n",
    "    validation_data=(X_val, y_val),\n",
    "    callbacks=[tensorboard]\n",
    ")"
   ]
  },
  {
   "cell_type": "code",
   "execution_count": 22,
   "metadata": {},
   "outputs": [
    {
     "name": "stdout",
     "output_type": "stream",
     "text": [
      "Test loss: 0.2798681590259075\n",
      "Test accuracy: 0.898\n"
     ]
    }
   ],
   "source": [
    "loss, accuracy = NN_model2.evaluate(X_val, y_val, verbose=0)\n",
    "print('Test loss:', loss)\n",
    "print('Test accuracy:', accuracy)"
   ]
  },
  {
   "cell_type": "markdown",
   "metadata": {},
   "source": [
    "### Вывод"
   ]
  },
  {
   "cell_type": "markdown",
   "metadata": {},
   "source": [
    "Полносвязная нейросеть работает лучше, чем логистическая регрессия, т.к. это более сложная модель, которая позволяет обнаружить больше зависимостей в данных."
   ]
  },
  {
   "cell_type": "markdown",
   "metadata": {},
   "source": [
    "# Convolutional Neural Network"
   ]
  },
  {
   "cell_type": "code",
   "execution_count": 23,
   "metadata": {},
   "outputs": [
    {
     "name": "stderr",
     "output_type": "stream",
     "text": [
      "/Users/itrechyokas/anaconda3/lib/python3.6/site-packages/ipykernel_launcher.py:1: FutureWarning: Method .as_matrix will be removed in a future version. Use .values instead.\n",
      "  \"\"\"Entry point for launching an IPython kernel.\n",
      "/Users/itrechyokas/anaconda3/lib/python3.6/site-packages/ipykernel_launcher.py:2: FutureWarning: Method .as_matrix will be removed in a future version. Use .values instead.\n",
      "  \n",
      "/Users/itrechyokas/anaconda3/lib/python3.6/site-packages/ipykernel_launcher.py:3: FutureWarning: Method .as_matrix will be removed in a future version. Use .values instead.\n",
      "  This is separate from the ipykernel package so we can avoid doing imports until\n"
     ]
    }
   ],
   "source": [
    "CNN_X_train = X_train.as_matrix()\n",
    "CNN_X_val = X_val.as_matrix()\n",
    "CNN_X_test = X_test.as_matrix()\n",
    "\n",
    "CNN_X_train = CNN_X_train.reshape(X_train.shape[0], 28, 28, 1)\n",
    "CNN_X_val = CNN_X_val.reshape(X_val.shape[0], 28, 28, 1)\n",
    "CNN_X_test = CNN_X_test.reshape(X_test.shape[0], 28, 28, 1)"
   ]
  },
  {
   "cell_type": "code",
   "execution_count": 24,
   "metadata": {},
   "outputs": [],
   "source": [
    "# Model from task 5.2\n",
    "model_name = 'CNN_1'\n",
    "tensorboard = tf.keras.callbacks.TensorBoard(log_dir=f'./logs/{model_name}')\n",
    "\n",
    "CNN_model = tf.keras.models.Sequential()\n",
    "CNN_model.add(tf.keras.layers.Convolution2D(filters=32, kernel_size=(3,3), activation='relu', input_shape=(28,28,1)))\n",
    "CNN_model.add(tf.keras.layers.MaxPooling2D(pool_size=(2,2)))\n",
    "CNN_model.add(tf.keras.layers.Convolution2D(filters=64, kernel_size=(3,3), activation='relu'))\n",
    "CNN_model.add(tf.keras.layers.MaxPooling2D(pool_size=(2,2)))\n",
    "CNN_model.add(tf.keras.layers.Flatten())\n",
    "CNN_model.add(tf.keras.layers.Dense(64, activation='relu'))\n",
    "CNN_model.add(tf.keras.layers.Dense(num_classes, activation='softmax'))"
   ]
  },
  {
   "cell_type": "code",
   "execution_count": 25,
   "metadata": {},
   "outputs": [
    {
     "name": "stdout",
     "output_type": "stream",
     "text": [
      "Train on 54000 samples, validate on 6000 samples\n",
      "Epoch 1/20\n",
      "54000/54000 [==============================] - 35s 657us/step - loss: 0.8442 - acc: 0.7214 - val_loss: 0.5043 - val_acc: 0.8160\n",
      "Epoch 2/20\n",
      "54000/54000 [==============================] - 35s 643us/step - loss: 0.4642 - acc: 0.8323 - val_loss: 0.4011 - val_acc: 0.8600\n",
      "Epoch 3/20\n",
      "54000/54000 [==============================] - 34s 635us/step - loss: 0.3973 - acc: 0.8596 - val_loss: 0.3863 - val_acc: 0.8623\n",
      "Epoch 4/20\n",
      "54000/54000 [==============================] - 34s 633us/step - loss: 0.3618 - acc: 0.8705 - val_loss: 0.3499 - val_acc: 0.8767\n",
      "Epoch 5/20\n",
      "54000/54000 [==============================] - 34s 633us/step - loss: 0.3369 - acc: 0.8814 - val_loss: 0.3311 - val_acc: 0.8857\n",
      "Epoch 6/20\n",
      "54000/54000 [==============================] - 34s 633us/step - loss: 0.3165 - acc: 0.8877 - val_loss: 0.3258 - val_acc: 0.8835\n",
      "Epoch 7/20\n",
      "54000/54000 [==============================] - 35s 640us/step - loss: 0.3032 - acc: 0.8931 - val_loss: 0.3260 - val_acc: 0.8858\n",
      "Epoch 8/20\n",
      "54000/54000 [==============================] - 38s 702us/step - loss: 0.2904 - acc: 0.8963 - val_loss: 0.2965 - val_acc: 0.8917\n",
      "Epoch 9/20\n",
      "54000/54000 [==============================] - 35s 647us/step - loss: 0.2802 - acc: 0.9003 - val_loss: 0.2897 - val_acc: 0.9007\n",
      "Epoch 10/20\n",
      "54000/54000 [==============================] - 35s 647us/step - loss: 0.2706 - acc: 0.9030 - val_loss: 0.2820 - val_acc: 0.8982\n",
      "Epoch 11/20\n",
      "54000/54000 [==============================] - 34s 626us/step - loss: 0.2621 - acc: 0.9070 - val_loss: 0.2782 - val_acc: 0.8997\n",
      "Epoch 12/20\n",
      "54000/54000 [==============================] - 34s 626us/step - loss: 0.2505 - acc: 0.9109 - val_loss: 0.2754 - val_acc: 0.9023\n",
      "Epoch 13/20\n",
      "54000/54000 [==============================] - 34s 626us/step - loss: 0.2433 - acc: 0.9138 - val_loss: 0.2684 - val_acc: 0.9037\n",
      "Epoch 14/20\n",
      "54000/54000 [==============================] - 34s 625us/step - loss: 0.2385 - acc: 0.9143 - val_loss: 0.2599 - val_acc: 0.9072\n",
      "Epoch 15/20\n",
      "54000/54000 [==============================] - 34s 624us/step - loss: 0.2367 - acc: 0.9151 - val_loss: 0.2592 - val_acc: 0.9075\n",
      "Epoch 16/20\n",
      "54000/54000 [==============================] - 34s 626us/step - loss: 0.2283 - acc: 0.9164 - val_loss: 0.2683 - val_acc: 0.9038\n",
      "Epoch 17/20\n",
      "54000/54000 [==============================] - 34s 624us/step - loss: 0.2184 - acc: 0.9217 - val_loss: 0.2597 - val_acc: 0.9082\n",
      "Epoch 18/20\n",
      "54000/54000 [==============================] - 34s 625us/step - loss: 0.2132 - acc: 0.9224 - val_loss: 0.2640 - val_acc: 0.9027\n",
      "Epoch 19/20\n",
      "54000/54000 [==============================] - 34s 629us/step - loss: 0.2068 - acc: 0.9247 - val_loss: 0.2609 - val_acc: 0.9038\n",
      "Epoch 20/20\n",
      "54000/54000 [==============================] - 34s 626us/step - loss: 0.2045 - acc: 0.9256 - val_loss: 0.2583 - val_acc: 0.9050\n"
     ]
    },
    {
     "data": {
      "text/plain": [
       "<tensorflow.python.keras.callbacks.History at 0x1a51b58dd8>"
      ]
     },
     "execution_count": 25,
     "metadata": {},
     "output_type": "execute_result"
    }
   ],
   "source": [
    "CNN_model.compile(\n",
    "    loss='categorical_crossentropy',\n",
    "    optimizer=tf.keras.optimizers.Adam(),\n",
    "    metrics=['accuracy']\n",
    ")\n",
    "\n",
    "CNN_model.fit(\n",
    "    CNN_X_train, y_train,\n",
    "    batch_size=batch_size,\n",
    "    epochs=epochs,\n",
    "    verbose=1,\n",
    "    validation_data=(CNN_X_val , y_val),\n",
    "    callbacks=[tensorboard]\n",
    ")"
   ]
  },
  {
   "cell_type": "code",
   "execution_count": 26,
   "metadata": {},
   "outputs": [
    {
     "name": "stdout",
     "output_type": "stream",
     "text": [
      "Test loss: 0.25830628256003063\n",
      "Test accuracy: 0.905\n"
     ]
    }
   ],
   "source": [
    "loss, accuracy = CNN_model.evaluate(CNN_X_val, y_val, verbose=0)\n",
    "print('Test loss:', loss)\n",
    "print('Test accuracy:', accuracy)"
   ]
  },
  {
   "cell_type": "code",
   "execution_count": null,
   "metadata": {},
   "outputs": [],
   "source": []
  },
  {
   "cell_type": "code",
   "execution_count": 27,
   "metadata": {},
   "outputs": [],
   "source": [
    "# Adding 2 more layers (also added padding as without it I got 'Negative dimension size...' error)\n",
    "model_name = 'CNN_2'\n",
    "tensorboard = tf.keras.callbacks.TensorBoard(log_dir=f'./logs/{model_name}')\n",
    "\n",
    "CNN_model2 = tf.keras.models.Sequential()\n",
    "CNN_model2.add(tf.keras.layers.Convolution2D(filters=32, kernel_size=(3,3), activation='relu', padding='same', input_shape=(28,28,1)))\n",
    "CNN_model2.add(tf.keras.layers.MaxPooling2D(pool_size=(2,2)))\n",
    "\n",
    "CNN_model2.add(tf.keras.layers.Convolution2D(filters=64, kernel_size=(3,3), activation='relu', padding='same', ))\n",
    "CNN_model2.add(tf.keras.layers.MaxPooling2D(pool_size=(2,2)))\n",
    "\n",
    "CNN_model2.add(tf.keras.layers.Convolution2D(filters=64, kernel_size=(3,3), activation='relu', padding='same', ))\n",
    "CNN_model2.add(tf.keras.layers.MaxPooling2D(pool_size=(2,2)))\n",
    "\n",
    "CNN_model2.add(tf.keras.layers.Convolution2D(filters=64, kernel_size=(3,3), activation='relu', padding='same', ))\n",
    "CNN_model2.add(tf.keras.layers.MaxPooling2D(pool_size=(2,2)))\n",
    "\n",
    "CNN_model2.add(tf.keras.layers.Flatten())\n",
    "CNN_model2.add(tf.keras.layers.Dense(64, activation='relu'))\n",
    "CNN_model2.add(tf.keras.layers.Dense(num_classes, activation='softmax'))"
   ]
  },
  {
   "cell_type": "code",
   "execution_count": 28,
   "metadata": {},
   "outputs": [
    {
     "name": "stdout",
     "output_type": "stream",
     "text": [
      "Train on 54000 samples, validate on 6000 samples\n",
      "Epoch 1/20\n",
      "54000/54000 [==============================] - 56s 1ms/step - loss: 0.9426 - acc: 0.6607 - val_loss: 0.5647 - val_acc: 0.7855\n",
      "Epoch 2/20\n",
      "54000/54000 [==============================] - 55s 1ms/step - loss: 0.5137 - acc: 0.8132 - val_loss: 0.4300 - val_acc: 0.8422\n",
      "Epoch 3/20\n",
      "54000/54000 [==============================] - 55s 1ms/step - loss: 0.4216 - acc: 0.8475 - val_loss: 0.3975 - val_acc: 0.8507\n",
      "Epoch 4/20\n",
      "54000/54000 [==============================] - 55s 1ms/step - loss: 0.3739 - acc: 0.8649 - val_loss: 0.3596 - val_acc: 0.8653\n",
      "Epoch 5/20\n",
      "54000/54000 [==============================] - 55s 1ms/step - loss: 0.3415 - acc: 0.8743 - val_loss: 0.3185 - val_acc: 0.8882\n",
      "Epoch 6/20\n",
      "54000/54000 [==============================] - 54s 1ms/step - loss: 0.3302 - acc: 0.8785 - val_loss: 0.3234 - val_acc: 0.8890\n",
      "Epoch 7/20\n",
      "54000/54000 [==============================] - 54s 1ms/step - loss: 0.3081 - acc: 0.8882 - val_loss: 0.2998 - val_acc: 0.8965\n",
      "Epoch 8/20\n",
      "54000/54000 [==============================] - 55s 1ms/step - loss: 0.2915 - acc: 0.8933 - val_loss: 0.3150 - val_acc: 0.8877\n",
      "Epoch 9/20\n",
      "54000/54000 [==============================] - 55s 1ms/step - loss: 0.2824 - acc: 0.8975 - val_loss: 0.2740 - val_acc: 0.9060\n",
      "Epoch 10/20\n",
      "54000/54000 [==============================] - 54s 1ms/step - loss: 0.2735 - acc: 0.8994 - val_loss: 0.2689 - val_acc: 0.9078\n",
      "Epoch 11/20\n",
      "54000/54000 [==============================] - 55s 1ms/step - loss: 0.2605 - acc: 0.9048 - val_loss: 0.2862 - val_acc: 0.8962\n",
      "Epoch 12/20\n",
      "54000/54000 [==============================] - 55s 1ms/step - loss: 0.2494 - acc: 0.9083 - val_loss: 0.2618 - val_acc: 0.9078\n",
      "Epoch 13/20\n",
      "54000/54000 [==============================] - 55s 1ms/step - loss: 0.2450 - acc: 0.9097 - val_loss: 0.2622 - val_acc: 0.9082\n",
      "Epoch 14/20\n",
      "54000/54000 [==============================] - 54s 1ms/step - loss: 0.2336 - acc: 0.9143 - val_loss: 0.2516 - val_acc: 0.9067\n",
      "Epoch 15/20\n",
      "54000/54000 [==============================] - 54s 1ms/step - loss: 0.2320 - acc: 0.9149 - val_loss: 0.2727 - val_acc: 0.8997\n",
      "Epoch 16/20\n",
      "54000/54000 [==============================] - 57s 1ms/step - loss: 0.2288 - acc: 0.9166 - val_loss: 0.2668 - val_acc: 0.8998\n",
      "Epoch 17/20\n",
      "54000/54000 [==============================] - 57s 1ms/step - loss: 0.2140 - acc: 0.9219 - val_loss: 0.2416 - val_acc: 0.9150\n",
      "Epoch 18/20\n",
      "54000/54000 [==============================] - 57s 1ms/step - loss: 0.2086 - acc: 0.9234 - val_loss: 0.2354 - val_acc: 0.9165\n",
      "Epoch 19/20\n",
      "54000/54000 [==============================] - 57s 1ms/step - loss: 0.2019 - acc: 0.9263 - val_loss: 0.2319 - val_acc: 0.9203\n",
      "Epoch 20/20\n",
      "54000/54000 [==============================] - 57s 1ms/step - loss: 0.1925 - acc: 0.9304 - val_loss: 0.2484 - val_acc: 0.9138\n"
     ]
    },
    {
     "data": {
      "text/plain": [
       "<tensorflow.python.keras.callbacks.History at 0x1a51b581d0>"
      ]
     },
     "execution_count": 28,
     "metadata": {},
     "output_type": "execute_result"
    }
   ],
   "source": [
    "CNN_model2.compile(\n",
    "    loss='categorical_crossentropy',\n",
    "    optimizer=tf.keras.optimizers.Adam(),\n",
    "    metrics=['accuracy']\n",
    ")\n",
    "\n",
    "CNN_model2.fit(\n",
    "    CNN_X_train, y_train,\n",
    "    batch_size=batch_size,\n",
    "    epochs=epochs,\n",
    "    verbose=1,\n",
    "    validation_data=(CNN_X_val , y_val),\n",
    "    callbacks=[tensorboard]\n",
    ")"
   ]
  },
  {
   "cell_type": "code",
   "execution_count": 29,
   "metadata": {},
   "outputs": [
    {
     "name": "stdout",
     "output_type": "stream",
     "text": [
      "Test loss: 0.24838692478338878\n",
      "Test accuracy: 0.9138333333333334\n"
     ]
    }
   ],
   "source": [
    "loss, accuracy = CNN_model2.evaluate(CNN_X_val, y_val, verbose=0)\n",
    "print('Test loss:', loss)\n",
    "print('Test accuracy:', accuracy)"
   ]
  },
  {
   "cell_type": "code",
   "execution_count": null,
   "metadata": {},
   "outputs": [],
   "source": []
  },
  {
   "cell_type": "code",
   "execution_count": 30,
   "metadata": {},
   "outputs": [],
   "source": [
    "# Adding batch mnormalization after each convolution layer\n",
    "model_name = 'CNN_3'\n",
    "tensorboard = tf.keras.callbacks.TensorBoard(log_dir=f'./logs/{model_name}')\n",
    "\n",
    "CNN_model3 = tf.keras.models.Sequential()\n",
    "CNN_model3.add(tf.keras.layers.Convolution2D(filters=32, kernel_size=(3,3), activation='relu', padding='same', input_shape=(28,28,1)))\n",
    "CNN_model3.add(tf.keras.layers.BatchNormalization())\n",
    "CNN_model3.add(tf.keras.layers.MaxPooling2D(pool_size=(2,2)))\n",
    "\n",
    "CNN_model3.add(tf.keras.layers.Convolution2D(filters=64, kernel_size=(3,3), activation='relu', padding='same', ))\n",
    "CNN_model3.add(tf.keras.layers.BatchNormalization())\n",
    "CNN_model3.add(tf.keras.layers.MaxPooling2D(pool_size=(2,2)))\n",
    "\n",
    "CNN_model3.add(tf.keras.layers.Convolution2D(filters=64, kernel_size=(3,3), activation='relu', padding='same', ))\n",
    "CNN_model3.add(tf.keras.layers.BatchNormalization())\n",
    "CNN_model3.add(tf.keras.layers.MaxPooling2D(pool_size=(2,2)))\n",
    "\n",
    "CNN_model3.add(tf.keras.layers.Convolution2D(filters=64, kernel_size=(3,3), activation='relu', padding='same', ))\n",
    "CNN_model3.add(tf.keras.layers.BatchNormalization())\n",
    "CNN_model3.add(tf.keras.layers.MaxPooling2D(pool_size=(2,2)))\n",
    "\n",
    "CNN_model3.add(tf.keras.layers.Flatten())\n",
    "CNN_model3.add(tf.keras.layers.Dense(64, activation='relu'))\n",
    "CNN_model3.add(tf.keras.layers.Dense(num_classes, activation='softmax'))"
   ]
  },
  {
   "cell_type": "code",
   "execution_count": 31,
   "metadata": {},
   "outputs": [
    {
     "name": "stdout",
     "output_type": "stream",
     "text": [
      "Train on 54000 samples, validate on 6000 samples\n",
      "Epoch 1/20\n",
      "54000/54000 [==============================] - 106s 2ms/step - loss: 0.5279 - acc: 0.8163 - val_loss: 2.2723 - val_acc: 0.1517\n",
      "Epoch 2/20\n",
      "54000/54000 [==============================] - 103s 2ms/step - loss: 0.2904 - acc: 0.8956 - val_loss: 2.0966 - val_acc: 0.3148\n",
      "Epoch 3/20\n",
      "54000/54000 [==============================] - 103s 2ms/step - loss: 0.2443 - acc: 0.9115 - val_loss: 1.6132 - val_acc: 0.5293\n",
      "Epoch 4/20\n",
      "54000/54000 [==============================] - 103s 2ms/step - loss: 0.2126 - acc: 0.9233 - val_loss: 0.9873 - val_acc: 0.6653\n",
      "Epoch 5/20\n",
      "54000/54000 [==============================] - 103s 2ms/step - loss: 0.1821 - acc: 0.9335 - val_loss: 0.3595 - val_acc: 0.8772\n",
      "Epoch 6/20\n",
      "54000/54000 [==============================] - 103s 2ms/step - loss: 0.1621 - acc: 0.9405 - val_loss: 0.2829 - val_acc: 0.8972\n",
      "Epoch 7/20\n",
      "54000/54000 [==============================] - 103s 2ms/step - loss: 0.1442 - acc: 0.9484 - val_loss: 0.2404 - val_acc: 0.9135\n",
      "Epoch 8/20\n",
      "54000/54000 [==============================] - 103s 2ms/step - loss: 0.1262 - acc: 0.9540 - val_loss: 0.2794 - val_acc: 0.9060\n",
      "Epoch 9/20\n",
      "54000/54000 [==============================] - 103s 2ms/step - loss: 0.1154 - acc: 0.9575 - val_loss: 0.4594 - val_acc: 0.8602\n",
      "Epoch 10/20\n",
      "54000/54000 [==============================] - 103s 2ms/step - loss: 0.1031 - acc: 0.9626 - val_loss: 0.2783 - val_acc: 0.9117\n",
      "Epoch 11/20\n",
      "54000/54000 [==============================] - 103s 2ms/step - loss: 0.0900 - acc: 0.9668 - val_loss: 0.3404 - val_acc: 0.8932\n",
      "Epoch 12/20\n",
      "54000/54000 [==============================] - 103s 2ms/step - loss: 0.0790 - acc: 0.9709 - val_loss: 0.3273 - val_acc: 0.9088\n",
      "Epoch 13/20\n",
      "54000/54000 [==============================] - 103s 2ms/step - loss: 0.0697 - acc: 0.9753 - val_loss: 0.3090 - val_acc: 0.9087\n",
      "Epoch 14/20\n",
      "54000/54000 [==============================] - 103s 2ms/step - loss: 0.0622 - acc: 0.9781 - val_loss: 0.3109 - val_acc: 0.9095\n",
      "Epoch 15/20\n",
      "54000/54000 [==============================] - 103s 2ms/step - loss: 0.0564 - acc: 0.9801 - val_loss: 0.3266 - val_acc: 0.9107\n",
      "Epoch 16/20\n",
      "54000/54000 [==============================] - 103s 2ms/step - loss: 0.0545 - acc: 0.9799 - val_loss: 0.3244 - val_acc: 0.9140\n",
      "Epoch 17/20\n",
      "54000/54000 [==============================] - 103s 2ms/step - loss: 0.0426 - acc: 0.9848 - val_loss: 0.3393 - val_acc: 0.9073\n",
      "Epoch 18/20\n",
      "54000/54000 [==============================] - 103s 2ms/step - loss: 0.0419 - acc: 0.9849 - val_loss: 0.3426 - val_acc: 0.9173\n",
      "Epoch 19/20\n",
      "54000/54000 [==============================] - 103s 2ms/step - loss: 0.0393 - acc: 0.9855 - val_loss: 0.4235 - val_acc: 0.9013\n",
      "Epoch 20/20\n",
      "54000/54000 [==============================] - 103s 2ms/step - loss: 0.0348 - acc: 0.9877 - val_loss: 0.4267 - val_acc: 0.9037\n"
     ]
    },
    {
     "data": {
      "text/plain": [
       "<tensorflow.python.keras.callbacks.History at 0x1a8d7cea58>"
      ]
     },
     "execution_count": 31,
     "metadata": {},
     "output_type": "execute_result"
    }
   ],
   "source": [
    "CNN_model3.compile(\n",
    "    loss='categorical_crossentropy',\n",
    "    optimizer=tf.keras.optimizers.Adam(),\n",
    "    metrics=['accuracy']\n",
    ")\n",
    "\n",
    "CNN_model3.fit(\n",
    "    CNN_X_train, y_train,\n",
    "    batch_size=batch_size,\n",
    "    epochs=epochs,\n",
    "    verbose=1,\n",
    "    validation_data=(CNN_X_val , y_val),\n",
    "    callbacks=[tensorboard]\n",
    ")"
   ]
  },
  {
   "cell_type": "code",
   "execution_count": 42,
   "metadata": {},
   "outputs": [
    {
     "name": "stdout",
     "output_type": "stream",
     "text": [
      "Test loss: 0.4267293870647748\n",
      "Test accuracy: 0.9036666666666666\n"
     ]
    }
   ],
   "source": [
    "loss, accuracy = CNN_model3.evaluate(CNN_X_val, y_val, verbose=0)\n",
    "print('Test loss:', loss)\n",
    "print('Test accuracy:', accuracy)"
   ]
  },
  {
   "cell_type": "code",
   "execution_count": null,
   "metadata": {},
   "outputs": [],
   "source": []
  },
  {
   "cell_type": "code",
   "execution_count": 33,
   "metadata": {},
   "outputs": [],
   "source": [
    "# Adding drop-out after each max pooling layer\n",
    "model_name = 'CNN_4'\n",
    "tensorboard = tf.keras.callbacks.TensorBoard(log_dir=f'./logs/{model_name}')\n",
    "\n",
    "CNN_model4 = tf.keras.models.Sequential()\n",
    "CNN_model4.add(tf.keras.layers.Convolution2D(filters=32, kernel_size=(3,3), activation='relu', padding='same', input_shape=(28,28,1)))\n",
    "CNN_model4.add(tf.keras.layers.BatchNormalization())\n",
    "CNN_model4.add(tf.keras.layers.MaxPooling2D(pool_size=(2,2)))\n",
    "CNN_model4.add(tf.keras.layers.Dropout(0.2))\n",
    "\n",
    "CNN_model4.add(tf.keras.layers.Convolution2D(filters=64, kernel_size=(3,3), activation='relu', padding='same', ))\n",
    "CNN_model4.add(tf.keras.layers.BatchNormalization())\n",
    "CNN_model4.add(tf.keras.layers.MaxPooling2D(pool_size=(2,2)))\n",
    "CNN_model4.add(tf.keras.layers.Dropout(0.2))\n",
    "\n",
    "CNN_model4.add(tf.keras.layers.Convolution2D(filters=64, kernel_size=(3,3), activation='relu', padding='same', ))\n",
    "CNN_model4.add(tf.keras.layers.BatchNormalization())\n",
    "CNN_model4.add(tf.keras.layers.MaxPooling2D(pool_size=(2,2)))\n",
    "CNN_model4.add(tf.keras.layers.Dropout(0.2))\n",
    "\n",
    "CNN_model4.add(tf.keras.layers.Convolution2D(filters=64, kernel_size=(3,3), activation='relu', padding='same', ))\n",
    "CNN_model4.add(tf.keras.layers.BatchNormalization())\n",
    "CNN_model4.add(tf.keras.layers.MaxPooling2D(pool_size=(2,2)))\n",
    "CNN_model4.add(tf.keras.layers.Dropout(0.2))\n",
    "\n",
    "CNN_model4.add(tf.keras.layers.Flatten())\n",
    "CNN_model4.add(tf.keras.layers.Dense(64, activation='relu'))\n",
    "CNN_model4.add(tf.keras.layers.Dense(num_classes, activation='softmax'))"
   ]
  },
  {
   "cell_type": "code",
   "execution_count": 34,
   "metadata": {},
   "outputs": [
    {
     "name": "stdout",
     "output_type": "stream",
     "text": [
      "Train on 54000 samples, validate on 6000 samples\n",
      "Epoch 1/20\n",
      "54000/54000 [==============================] - 141s 3ms/step - loss: 0.8237 - acc: 0.7002 - val_loss: 2.2467 - val_acc: 0.0965\n",
      "Epoch 2/20\n",
      "54000/54000 [==============================] - 138s 3ms/step - loss: 0.4730 - acc: 0.8271 - val_loss: 2.6231 - val_acc: 0.1237\n",
      "Epoch 3/20\n",
      "54000/54000 [==============================] - 138s 3ms/step - loss: 0.3950 - acc: 0.8572 - val_loss: 2.0638 - val_acc: 0.3333\n",
      "Epoch 4/20\n",
      "54000/54000 [==============================] - 138s 3ms/step - loss: 0.3586 - acc: 0.8706 - val_loss: 0.9502 - val_acc: 0.6933\n",
      "Epoch 5/20\n",
      "54000/54000 [==============================] - 138s 3ms/step - loss: 0.3299 - acc: 0.8807 - val_loss: 0.4386 - val_acc: 0.8555\n",
      "Epoch 6/20\n",
      "54000/54000 [==============================] - 138s 3ms/step - loss: 0.3070 - acc: 0.8890 - val_loss: 0.2838 - val_acc: 0.8937\n",
      "Epoch 7/20\n",
      "54000/54000 [==============================] - 137s 3ms/step - loss: 0.2950 - acc: 0.8932 - val_loss: 0.2447 - val_acc: 0.9103\n",
      "Epoch 8/20\n",
      "54000/54000 [==============================] - 137s 3ms/step - loss: 0.2817 - acc: 0.8973 - val_loss: 0.2512 - val_acc: 0.9075\n",
      "Epoch 9/20\n",
      "54000/54000 [==============================] - 137s 3ms/step - loss: 0.2700 - acc: 0.9022 - val_loss: 0.2229 - val_acc: 0.9202\n",
      "Epoch 10/20\n",
      "54000/54000 [==============================] - 138s 3ms/step - loss: 0.2626 - acc: 0.9048 - val_loss: 0.2352 - val_acc: 0.9157\n",
      "Epoch 11/20\n",
      "54000/54000 [==============================] - 137s 3ms/step - loss: 0.2497 - acc: 0.9095 - val_loss: 0.2346 - val_acc: 0.9117\n",
      "Epoch 12/20\n",
      "54000/54000 [==============================] - 137s 3ms/step - loss: 0.2471 - acc: 0.9102 - val_loss: 0.2469 - val_acc: 0.9040\n",
      "Epoch 13/20\n",
      "54000/54000 [==============================] - 137s 3ms/step - loss: 0.2371 - acc: 0.9130 - val_loss: 0.2284 - val_acc: 0.9143\n",
      "Epoch 14/20\n",
      "54000/54000 [==============================] - 137s 3ms/step - loss: 0.2321 - acc: 0.9146 - val_loss: 0.2037 - val_acc: 0.9252\n",
      "Epoch 15/20\n",
      "54000/54000 [==============================] - 139s 3ms/step - loss: 0.2275 - acc: 0.9160 - val_loss: 0.2788 - val_acc: 0.9010\n",
      "Epoch 16/20\n",
      "54000/54000 [==============================] - 138s 3ms/step - loss: 0.2228 - acc: 0.9187 - val_loss: 0.2075 - val_acc: 0.9227\n",
      "Epoch 17/20\n",
      "54000/54000 [==============================] - 137s 3ms/step - loss: 0.2204 - acc: 0.9192 - val_loss: 0.2285 - val_acc: 0.9142\n",
      "Epoch 18/20\n",
      "54000/54000 [==============================] - 137s 3ms/step - loss: 0.2101 - acc: 0.9231 - val_loss: 0.2138 - val_acc: 0.9145\n",
      "Epoch 19/20\n",
      "54000/54000 [==============================] - 137s 3ms/step - loss: 0.2073 - acc: 0.9236 - val_loss: 0.2291 - val_acc: 0.9155\n",
      "Epoch 20/20\n",
      "54000/54000 [==============================] - 137s 3ms/step - loss: 0.2064 - acc: 0.9241 - val_loss: 0.2076 - val_acc: 0.9210\n"
     ]
    },
    {
     "data": {
      "text/plain": [
       "<tensorflow.python.keras.callbacks.History at 0x1a957b3390>"
      ]
     },
     "execution_count": 34,
     "metadata": {},
     "output_type": "execute_result"
    }
   ],
   "source": [
    "CNN_model4.compile(\n",
    "    loss='categorical_crossentropy',\n",
    "    optimizer=tf.keras.optimizers.Adam(),\n",
    "    metrics=['accuracy']\n",
    ")\n",
    "\n",
    "CNN_model4.fit(\n",
    "    CNN_X_train, y_train,\n",
    "    batch_size=batch_size,\n",
    "    epochs=epochs,\n",
    "    verbose=1,\n",
    "    validation_data=(CNN_X_val , y_val),\n",
    "    callbacks=[tensorboard]\n",
    ")"
   ]
  },
  {
   "cell_type": "code",
   "execution_count": 41,
   "metadata": {},
   "outputs": [
    {
     "name": "stdout",
     "output_type": "stream",
     "text": [
      "Test loss: 0.20755504260460536\n",
      "Test accuracy: 0.921\n"
     ]
    }
   ],
   "source": [
    "loss, accuracy = CNN_model4.evaluate(CNN_X_val, y_val, verbose=0)\n",
    "print('Test loss:', loss)\n",
    "print('Test accuracy:', accuracy)"
   ]
  },
  {
   "cell_type": "code",
   "execution_count": null,
   "metadata": {},
   "outputs": [],
   "source": []
  },
  {
   "cell_type": "code",
   "execution_count": 37,
   "metadata": {},
   "outputs": [],
   "source": [
    "# Tried batch normalization after fully connected layer\n",
    "model_name = 'CNN_5'\n",
    "tensorboard = tf.keras.callbacks.TensorBoard(log_dir=f'./logs/{model_name}')\n",
    "\n",
    "CNN_model5 = tf.keras.models.Sequential()\n",
    "CNN_model5.add(tf.keras.layers.Convolution2D(filters=32, kernel_size=(3,3), activation='relu', padding='same', input_shape=(28,28,1)))\n",
    "CNN_model5.add(tf.keras.layers.MaxPooling2D(pool_size=(2,2)))\n",
    "\n",
    "CNN_model5.add(tf.keras.layers.Convolution2D(filters=64, kernel_size=(3,3), activation='relu', padding='same', ))\n",
    "CNN_model5.add(tf.keras.layers.MaxPooling2D(pool_size=(2,2)))\n",
    "\n",
    "CNN_model5.add(tf.keras.layers.Convolution2D(filters=64, kernel_size=(3,3), activation='relu', padding='same', ))\n",
    "CNN_model5.add(tf.keras.layers.MaxPooling2D(pool_size=(2,2)))\n",
    "\n",
    "CNN_model5.add(tf.keras.layers.Convolution2D(filters=64, kernel_size=(3,3), activation='relu', padding='same', ))\n",
    "CNN_model5.add(tf.keras.layers.MaxPooling2D(pool_size=(2,2)))\n",
    "\n",
    "CNN_model5.add(tf.keras.layers.Flatten())\n",
    "CNN_model5.add(tf.keras.layers.Dense(64, activation='relu'))\n",
    "CNN_model5.add(tf.keras.layers.BatchNormalization())\n",
    "CNN_model5.add(tf.keras.layers.Dense(num_classes, activation='softmax'))"
   ]
  },
  {
   "cell_type": "code",
   "execution_count": 38,
   "metadata": {},
   "outputs": [
    {
     "name": "stdout",
     "output_type": "stream",
     "text": [
      "Train on 54000 samples, validate on 6000 samples\n",
      "Epoch 1/20\n",
      "54000/54000 [==============================] - 59s 1ms/step - loss: 0.6407 - acc: 0.7918 - val_loss: 1.4976 - val_acc: 0.7563\n",
      "Epoch 2/20\n",
      "54000/54000 [==============================] - 58s 1ms/step - loss: 0.3477 - acc: 0.8789 - val_loss: 0.9252 - val_acc: 0.8737\n",
      "Epoch 3/20\n",
      "54000/54000 [==============================] - 58s 1ms/step - loss: 0.2888 - acc: 0.8978 - val_loss: 0.5265 - val_acc: 0.8818\n",
      "Epoch 4/20\n",
      "54000/54000 [==============================] - 57s 1ms/step - loss: 0.2559 - acc: 0.9093 - val_loss: 0.3377 - val_acc: 0.8933\n",
      "Epoch 5/20\n",
      "54000/54000 [==============================] - 57s 1ms/step - loss: 0.2297 - acc: 0.9181 - val_loss: 0.2698 - val_acc: 0.9122\n",
      "Epoch 6/20\n",
      "54000/54000 [==============================] - 56s 1ms/step - loss: 0.2099 - acc: 0.9245 - val_loss: 0.2891 - val_acc: 0.8978\n",
      "Epoch 7/20\n",
      "54000/54000 [==============================] - 57s 1ms/step - loss: 0.1951 - acc: 0.9300 - val_loss: 0.2323 - val_acc: 0.9153\n",
      "Epoch 8/20\n",
      "54000/54000 [==============================] - 57s 1ms/step - loss: 0.1783 - acc: 0.9364 - val_loss: 0.3192 - val_acc: 0.8823\n",
      "Epoch 9/20\n",
      "54000/54000 [==============================] - 56s 1ms/step - loss: 0.1629 - acc: 0.9420 - val_loss: 0.2603 - val_acc: 0.9072\n",
      "Epoch 10/20\n",
      "54000/54000 [==============================] - 57s 1ms/step - loss: 0.1545 - acc: 0.9442 - val_loss: 0.2700 - val_acc: 0.9037\n",
      "Epoch 11/20\n",
      "54000/54000 [==============================] - 57s 1ms/step - loss: 0.1413 - acc: 0.9504 - val_loss: 0.2630 - val_acc: 0.9105\n",
      "Epoch 12/20\n",
      "54000/54000 [==============================] - 58s 1ms/step - loss: 0.1300 - acc: 0.9529 - val_loss: 0.3294 - val_acc: 0.8968\n",
      "Epoch 13/20\n",
      "54000/54000 [==============================] - 57s 1ms/step - loss: 0.1165 - acc: 0.9585 - val_loss: 0.3986 - val_acc: 0.8875\n",
      "Epoch 14/20\n",
      "54000/54000 [==============================] - 57s 1ms/step - loss: 0.1062 - acc: 0.9626 - val_loss: 0.2747 - val_acc: 0.9145\n",
      "Epoch 15/20\n",
      "54000/54000 [==============================] - 58s 1ms/step - loss: 0.0964 - acc: 0.9659 - val_loss: 0.3000 - val_acc: 0.9077\n",
      "Epoch 16/20\n",
      "54000/54000 [==============================] - 56s 1ms/step - loss: 0.0911 - acc: 0.9682 - val_loss: 0.3044 - val_acc: 0.9043\n",
      "Epoch 17/20\n",
      "54000/54000 [==============================] - 58s 1ms/step - loss: 0.0816 - acc: 0.9711 - val_loss: 0.3885 - val_acc: 0.8905\n",
      "Epoch 18/20\n",
      "54000/54000 [==============================] - 61s 1ms/step - loss: 0.0746 - acc: 0.9735 - val_loss: 0.3719 - val_acc: 0.8972\n",
      "Epoch 19/20\n",
      "54000/54000 [==============================] - 57s 1ms/step - loss: 0.0664 - acc: 0.9769 - val_loss: 0.3401 - val_acc: 0.9110\n",
      "Epoch 20/20\n",
      "54000/54000 [==============================] - 58s 1ms/step - loss: 0.0581 - acc: 0.9804 - val_loss: 0.4378 - val_acc: 0.8905\n"
     ]
    },
    {
     "data": {
      "text/plain": [
       "<tensorflow.python.keras.callbacks.History at 0x1a957b2ac8>"
      ]
     },
     "execution_count": 38,
     "metadata": {},
     "output_type": "execute_result"
    }
   ],
   "source": [
    "CNN_model5.compile(\n",
    "    loss='categorical_crossentropy',\n",
    "    optimizer=tf.keras.optimizers.Adam(),\n",
    "    metrics=['accuracy']\n",
    ")\n",
    "\n",
    "CNN_model5.fit(\n",
    "    CNN_X_train, y_train,\n",
    "    batch_size=batch_size,\n",
    "    epochs=epochs,\n",
    "    verbose=1,\n",
    "    validation_data=(CNN_X_val , y_val),\n",
    "    callbacks=[tensorboard]\n",
    ")"
   ]
  },
  {
   "cell_type": "code",
   "execution_count": 39,
   "metadata": {},
   "outputs": [
    {
     "name": "stdout",
     "output_type": "stream",
     "text": [
      "Test loss: 0.4377724414467812\n",
      "Test accuracy: 0.8905\n"
     ]
    }
   ],
   "source": [
    "loss, accuracy = CNN_model5.evaluate(CNN_X_val, y_val, verbose=0)\n",
    "print('Test loss:', loss)\n",
    "print('Test accuracy:', accuracy)"
   ]
  },
  {
   "cell_type": "markdown",
   "metadata": {},
   "source": [
    "### Вывод"
   ]
  },
  {
   "cell_type": "markdown",
   "metadata": {},
   "source": [
    "Сверточная нейронная сеть не дает большого прироста качества по сравнению с полносвязной нейросетью (всего 0.01 пункт accuracy). Увеличение слоев и добавление batch normalization также дают совсем небольшой прирост качества.  "
   ]
  },
  {
   "cell_type": "markdown",
   "metadata": {},
   "source": [
    "# Выбор лучшей модели"
   ]
  },
  {
   "cell_type": "markdown",
   "metadata": {},
   "source": [
    "Судя по значению метрики accuracy на валидационных данных, наилучший результат имеет модель CNN_4 (уже на 9 эпохе обучения) - 0.92. Посмотрим, как будет вести себя эта модель на новых данных, посчитав метрику accuracy на тестовом сете."
   ]
  },
  {
   "cell_type": "code",
   "execution_count": 40,
   "metadata": {},
   "outputs": [
    {
     "name": "stdout",
     "output_type": "stream",
     "text": [
      "Test loss: 0.21060755120813845\n",
      "Test accuracy: 0.9214\n"
     ]
    }
   ],
   "source": [
    "loss, accuracy = CNN_model4.evaluate(CNN_X_test, y_test, verbose=0)\n",
    "print('Test loss:', loss)\n",
    "print('Test accuracy:', accuracy)"
   ]
  },
  {
   "cell_type": "code",
   "execution_count": null,
   "metadata": {},
   "outputs": [],
   "source": []
  }
 ],
 "metadata": {
  "kernelspec": {
   "display_name": "Python 3",
   "language": "python",
   "name": "python3"
  },
  "language_info": {
   "codemirror_mode": {
    "name": "ipython",
    "version": 3
   },
   "file_extension": ".py",
   "mimetype": "text/x-python",
   "name": "python",
   "nbconvert_exporter": "python",
   "pygments_lexer": "ipython3",
   "version": "3.6.8"
  }
 },
 "nbformat": 4,
 "nbformat_minor": 2
}
