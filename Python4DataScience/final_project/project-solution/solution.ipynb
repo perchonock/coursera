{
 "cells": [
  {
   "cell_type": "markdown",
   "metadata": {},
   "source": [
    "# Итоговый проект"
   ]
  },
  {
   "cell_type": "markdown",
   "metadata": {},
   "source": [
    "Для воспроизводимости результатов данного проекта необязательно запускать обучения нейронных сетей. Для полносвязной нейронной сети и для различных вариантов сверточных сетей сохранены веса. Вы можете запустить обучение этих моделей, но этот процесс займет какое-то время."
   ]
  },
  {
   "cell_type": "markdown",
   "metadata": {},
   "source": [
    "## Классификация изображений Fashion-MNIST"
   ]
  },
  {
   "cell_type": "markdown",
   "metadata": {},
   "source": [
    "Импортируем библиотеки и истановим random seeds для возможности воспроизведения результатов. В качестве фреймворка будем использовать keras с бэкендом tensorflow. В данном случае, использование keras как отдельной библиотеки аналогичное tf.keras."
   ]
  },
  {
   "cell_type": "code",
   "execution_count": 1,
   "metadata": {},
   "outputs": [
    {
     "name": "stderr",
     "output_type": "stream",
     "text": [
      "Using TensorFlow backend.\n"
     ]
    }
   ],
   "source": [
    "from tensorflow import set_random_seed\n",
    "import keras\n",
    "import pandas as pd\n",
    "import numpy as np\n",
    "\n",
    "set_random_seed(0)\n",
    "np.random.seed(0)\n",
    "\n",
    "path_to_test_data = 'fashion-mnist_test.csv'\n",
    "path_to_train_data = 'fashion-mnist_train.csv'"
   ]
  },
  {
   "cell_type": "code",
   "execution_count": 2,
   "metadata": {},
   "outputs": [],
   "source": [
    "import os\n",
    "os.environ['KMP_DUPLICATE_LIB_OK']='True'"
   ]
  },
  {
   "cell_type": "markdown",
   "metadata": {},
   "source": [
    "Загрузим данные из csv-файлов. Выделим из тренировочных данных валидационную выборку."
   ]
  },
  {
   "cell_type": "code",
   "execution_count": 3,
   "metadata": {},
   "outputs": [
    {
     "name": "stderr",
     "output_type": "stream",
     "text": [
      "/Users/itrechyokas/anaconda3/lib/python3.6/site-packages/ipykernel_launcher.py:4: FutureWarning: Method .as_matrix will be removed in a future version. Use .values instead.\n",
      "  after removing the cwd from sys.path.\n"
     ]
    }
   ],
   "source": [
    "def get_data(path_to_data):\n",
    "    df = pd.read_csv(path_to_data)\n",
    "    y = np.array(df['label'])\n",
    "    X = df[df.columns[1:]].as_matrix()\n",
    "    return X, y\n",
    "\n",
    "X, y = get_data(path_to_train_data)\n",
    "indices = list(range(len(X)))\n",
    "np.random.seed(42)\n",
    "np.random.shuffle(indices)\n",
    "tr_i, te_i = indices[10000:], indices[:10000]\n",
    "X_train, X_valid, y_train, y_valid = X[tr_i], X[te_i], y[tr_i], y[te_i]\n",
    "X_test, y_test = get_data(path_to_test_data)"
   ]
  },
  {
   "cell_type": "markdown",
   "metadata": {},
   "source": [
    "Приведем лейблы классов в one-hot представление и нормализуем признаки."
   ]
  },
  {
   "cell_type": "code",
   "execution_count": 4,
   "metadata": {},
   "outputs": [],
   "source": [
    "from keras import utils\n",
    "\n",
    "y_train = utils.to_categorical(y_train)\n",
    "y_valid = utils.to_categorical(y_valid)\n",
    "y_test = utils.to_categorical(y_test)\n",
    "X_train = X_train.astype('float32') / 255\n",
    "X_valid = X_valid.astype('float32') / 255\n",
    "X_test = X_test.astype('float32') / 255"
   ]
  },
  {
   "cell_type": "markdown",
   "metadata": {},
   "source": [
    "## Логистическая регрессия"
   ]
  },
  {
   "cell_type": "markdown",
   "metadata": {},
   "source": [
    "Реализуем логистическую регрессию. В качестве функции потерь будем использовать `categorical_crossentropy`."
   ]
  },
  {
   "cell_type": "code",
   "execution_count": null,
   "metadata": {},
   "outputs": [],
   "source": [
    "from keras.models import Sequential\n",
    "from keras.layers import Dense\n",
    "\n",
    "def logistic_regression():\n",
    "    model = Sequential()\n",
    "    model.add(Dense(10, input_shape=(784,), activation='softmax'))\n",
    "    model.compile(loss='categorical_crossentropy', optimizer='sgd', metrics=['accuracy'])\n",
    "    return model"
   ]
  },
  {
   "cell_type": "markdown",
   "metadata": {},
   "source": [
    "Запустим обучение логистической регресии на 50 эпохах. Для построения графика зависимости метрики качества от количества эпох можно использовать tensorboard, который мы подключили в качестве callback.\n",
    "\n",
    "Запуск tensorboard в терминале текущей директории: `tensorboard -logdir ./log/log_regr/`."
   ]
  },
  {
   "cell_type": "code",
   "execution_count": null,
   "metadata": {},
   "outputs": [],
   "source": [
    "from keras.callbacks import TensorBoard\n",
    "\n",
    "model = logistic_regression()\n",
    "_ = model.fit(X_train, y_train, epochs=100, \n",
    "              validation_data=(X_valid, y_valid),\n",
    "              verbose=0,\n",
    "              callbacks=[TensorBoard('./logs/log_regr/')])"
   ]
  },
  {
   "cell_type": "markdown",
   "metadata": {},
   "source": [
    "Качество логистической регрессии на тестовой выборке после 50 эпох приведено ниже."
   ]
  },
  {
   "cell_type": "code",
   "execution_count": null,
   "metadata": {},
   "outputs": [],
   "source": [
    "from matplotlib import pyplot as plt\n",
    "\n",
    "_, score = model.evaluate(X_test, y_test, verbose=0)\n",
    "print(\"Logistic Regression, score: {0:.3f}\".format(score))\n",
    "\n",
    "df = pd.read_csv('plot_data.csv')\n",
    "x, y = df[['Step']].as_matrix(), df[['Value']].as_matrix()\n",
    "plt.title('validation accuracy')\n",
    "plt.xlabel('step')\n",
    "plt.ylabel('value')\n",
    "plt.plot(x, y, '--o')\n",
    "plt.show()"
   ]
  },
  {
   "cell_type": "markdown",
   "metadata": {},
   "source": [
    "## Полносвязная нейронная сеть"
   ]
  },
  {
   "cell_type": "markdown",
   "metadata": {},
   "source": [
    "Реализуем полносвязную сверточную сеть с несколькими скрытыми слоями. В качестве оптимизатора будем использовать Adam."
   ]
  },
  {
   "cell_type": "code",
   "execution_count": null,
   "metadata": {},
   "outputs": [],
   "source": [
    "def get_neural_network():\n",
    "    model = Sequential()\n",
    "    model.add(Dense(128, input_shape=(784,), activation='relu'))\n",
    "    model.add(Dense(32, activation='relu'))\n",
    "    model.add(Dense(10, activation='softmax'))\n",
    "    model.compile(loss='categorical_crossentropy', optimizer='adam', metrics=['accuracy'])\n",
    "    return model\n",
    "\n",
    "model = get_neural_network()"
   ]
  },
  {
   "cell_type": "markdown",
   "metadata": {},
   "source": [
    "Запустим обучение нейронной сети на тренировочной выборке в течение 30 эпох. По-мимо `TensorBoard` callback, подключим `ModelCheckpoint` для сохранения лучшего состояния сети в процессе обучения с точки зрения лучшего качества на валидационной выборке."
   ]
  },
  {
   "cell_type": "markdown",
   "metadata": {},
   "source": [
    "### *Обучение полносвязной нейронной сети*"
   ]
  },
  {
   "cell_type": "code",
   "execution_count": null,
   "metadata": {},
   "outputs": [],
   "source": [
    "from keras.callbacks import ModelCheckpoint\n",
    "\n",
    "model_checkpoint = ModelCheckpoint('nn.h5', \n",
    "                                   save_best_only=True, \n",
    "                                   save_weights_only=True,\n",
    "                                   mode='max',\n",
    "                                   monitor='val_acc')\n",
    "_ = model.fit(X_train, y_train, epochs=30, \n",
    "              validation_data=(X_valid, y_valid),\n",
    "              verbose=0,\n",
    "              callbacks=[model_checkpoint, TensorBoard('./logs/nn/')])"
   ]
  },
  {
   "cell_type": "markdown",
   "metadata": {},
   "source": [
    "Загрузим веса, соответствующие лучшему состоянию нейронной сети. Оценим качество на тестовой выборке. В результате, оно примерно на 4% выше, чем для логистической регрессии. Это можно объяснить тем, что полносвязная нейронная сеть по своей сути является нелинейной моделью, которая может автоматически извлекать признаки из предложенных данных."
   ]
  },
  {
   "cell_type": "code",
   "execution_count": null,
   "metadata": {},
   "outputs": [],
   "source": [
    "model.load_weights('nn.h5')\n",
    "_, score = model.evaluate(X_test, y_test, verbose=0)\n",
    "print(\"Fully-Connected neural network, score: {0:.3f}\".format(score))"
   ]
  },
  {
   "cell_type": "markdown",
   "metadata": {},
   "source": [
    "## Сверточная нейронная сеть"
   ]
  },
  {
   "cell_type": "markdown",
   "metadata": {},
   "source": [
    "Изменим размерность тренировочных и тестовых данных для сверточной нейронной сети."
   ]
  },
  {
   "cell_type": "code",
   "execution_count": null,
   "metadata": {},
   "outputs": [],
   "source": [
    "X_train = X_train.reshape(50000, 28, 28, 1)\n",
    "X_valid = X_valid.reshape(10000, 28, 28, 1)\n",
    "X_test = X_test.reshape(10000, 28, 28, 1)"
   ]
  },
  {
   "cell_type": "markdown",
   "metadata": {},
   "source": [
    "Сверточная нейронная сеть для решения задачи классификации приведена ниже."
   ]
  },
  {
   "cell_type": "code",
   "execution_count": null,
   "metadata": {},
   "outputs": [],
   "source": [
    "from keras.layers import Conv2D, MaxPooling2D, Flatten\n",
    "\n",
    "def get_conv_net():\n",
    "    model = Sequential()\n",
    "    model.add(Conv2D(32, (3,3), input_shape=(28, 28, 1), activation='relu'))\n",
    "    model.add(MaxPooling2D((2,2)))\n",
    "    model.add(Conv2D(64, (3,3), activation='relu'))\n",
    "    model.add(MaxPooling2D((2,2)))\n",
    "    model.add(Flatten())\n",
    "    model.add(Dense(128, activation='relu'))\n",
    "    model.add(Dense(32, activation='relu'))\n",
    "    model.add(Dense(10, activation='softmax'))\n",
    "    model.compile(loss='categorical_crossentropy', optimizer='adam', metrics=['accuracy'])\n",
    "    return model\n",
    "\n",
    "model = get_conv_net()"
   ]
  },
  {
   "cell_type": "markdown",
   "metadata": {},
   "source": [
    "Обучим сверточную нейронную сеть."
   ]
  },
  {
   "cell_type": "markdown",
   "metadata": {},
   "source": [
    "### *Обучение сверточной нейронной сети*"
   ]
  },
  {
   "cell_type": "code",
   "execution_count": null,
   "metadata": {},
   "outputs": [],
   "source": [
    "model_checkpoint = ModelCheckpoint('cnn-1.h5', \n",
    "                                   save_best_only=True, \n",
    "                                   save_weights_only=True,\n",
    "                                   mode='max',\n",
    "                                   monitor='val_acc')\n",
    "_ = model.fit(X_train, y_train, epochs=15, \n",
    "              validation_data=(X_valid, y_valid),\n",
    "              verbose=0,\n",
    "              callbacks=[model_checkpoint, TensorBoard('./logs/cnn-1/')])"
   ]
  },
  {
   "cell_type": "markdown",
   "metadata": {},
   "source": [
    "В результате, качество сверточные нейронной сети на тестовых данных примерно на 2% процента выше полносвязной нейронной сети."
   ]
  },
  {
   "cell_type": "code",
   "execution_count": null,
   "metadata": {},
   "outputs": [],
   "source": [
    "model.load_weights('cnn-1.h5')\n",
    "_, score = model.evaluate(X_test, y_test, verbose=0)\n",
    "print(\"cnn 1, params: %d\" % model.count_params())\n",
    "print(\"cnn 1, score: {0:.3f}\".format(score))"
   ]
  },
  {
   "cell_type": "markdown",
   "metadata": {},
   "source": [
    "Попробуем сделать нашу сверточную нейронную сеть немного глубже. Для этого добавим несколько сверточных слоев."
   ]
  },
  {
   "cell_type": "code",
   "execution_count": null,
   "metadata": {},
   "outputs": [],
   "source": [
    "def get_another_conv_net(optimizer='adam'):\n",
    "    model = Sequential()\n",
    "    model.add(Conv2D(32, (3,3), input_shape=(28, 28, 1), activation='relu'))\n",
    "    model.add(Conv2D(32, (3,3), activation='relu'))\n",
    "    model.add(MaxPooling2D((2,2)))\n",
    "    model.add(Conv2D(64, (3,3), activation='relu'))\n",
    "    model.add(Conv2D(64, (3,3), activation='relu'))\n",
    "    model.add(MaxPooling2D((2,2)))\n",
    "    model.add(Flatten())\n",
    "    model.add(Dense(128, activation='relu'))\n",
    "    model.add(Dense(32, activation='relu'))\n",
    "    model.add(Dense(10, activation='softmax'))\n",
    "    model.compile(loss='categorical_crossentropy', optimizer=optimizer, metrics=['accuracy'])\n",
    "    return model\n",
    "\n",
    "model = get_another_conv_net()"
   ]
  },
  {
   "cell_type": "markdown",
   "metadata": {},
   "source": [
    "### *Обучение сверточной нейронной сети*"
   ]
  },
  {
   "cell_type": "code",
   "execution_count": null,
   "metadata": {},
   "outputs": [],
   "source": [
    "model_checkpoint = ModelCheckpoint('cnn-2.h5', \n",
    "                                   save_best_only=True, \n",
    "                                   save_weights_only=True,\n",
    "                                   mode='max',\n",
    "                                   monitor='val_acc')\n",
    "_ = model.fit(X_train, y_train, epochs=15, \n",
    "              validation_data=(X_valid, y_valid),\n",
    "              verbose=0,\n",
    "              callbacks=[model_checkpoint, TensorBoard('./logs/cnn-2/')])"
   ]
  },
  {
   "cell_type": "markdown",
   "metadata": {},
   "source": [
    "В результате, качество модели на тестовых данных стало немного лучше."
   ]
  },
  {
   "cell_type": "code",
   "execution_count": null,
   "metadata": {},
   "outputs": [],
   "source": [
    "model.load_weights('cnn-2.h5')\n",
    "_, score = model.evaluate(X_test, y_test, verbose=0)\n",
    "print(\"cnn 2, params: %d\" % model.count_params())\n",
    "print(\"cnn 2, score: {0:.3f}\".format(score))"
   ]
  },
  {
   "cell_type": "markdown",
   "metadata": {},
   "source": [
    "Добавим Batch Normalization слои в нашу модель после сверточных слоев. Запустим обучение модели."
   ]
  },
  {
   "cell_type": "code",
   "execution_count": null,
   "metadata": {},
   "outputs": [],
   "source": [
    "from keras.layers import BatchNormalization\n",
    "\n",
    "def get_conv_net_with_batch_norm(optimizer='adam'):\n",
    "    model = Sequential()\n",
    "    model.add(Conv2D(32, (3,3), input_shape=(28, 28, 1), activation='relu'))\n",
    "    model.add(BatchNormalization())\n",
    "    model.add(Conv2D(32, (3,3), activation='relu'))\n",
    "    model.add(BatchNormalization())\n",
    "    model.add(MaxPooling2D((2,2)))\n",
    "    model.add(Conv2D(64, (3,3), activation='relu'))\n",
    "    model.add(BatchNormalization())\n",
    "    model.add(Conv2D(64, (3,3), activation='relu'))\n",
    "    model.add(BatchNormalization())\n",
    "    model.add(MaxPooling2D((2,2)))\n",
    "    model.add(Flatten())\n",
    "    model.add(Dense(128, activation='relu'))\n",
    "    model.add(Dense(32, activation='relu'))\n",
    "    model.add(Dense(10, activation='softmax'))\n",
    "    model.compile(loss='categorical_crossentropy', optimizer=optimizer, metrics=['accuracy'])\n",
    "    return model\n",
    "\n",
    "model = get_conv_net_with_batch_norm()"
   ]
  },
  {
   "cell_type": "markdown",
   "metadata": {},
   "source": [
    "### *Обучение сверточной нейронной сети*"
   ]
  },
  {
   "cell_type": "code",
   "execution_count": null,
   "metadata": {},
   "outputs": [],
   "source": [
    "model_checkpoint = ModelCheckpoint('cnn-3.h5', \n",
    "                                   save_best_only=True, \n",
    "                                   save_weights_only=True,\n",
    "                                   mode='max',\n",
    "                                   monitor='val_acc')\n",
    "_ = model.fit(X_train, y_train, epochs=15, \n",
    "              validation_data=(X_valid, y_valid),\n",
    "              verbose=0,\n",
    "              callbacks=[model_checkpoint, TensorBoard('./logs/cnn-3/')])"
   ]
  },
  {
   "cell_type": "markdown",
   "metadata": {},
   "source": [
    "В результате, мы смогли немного улучшить качество сверточной нейронной сети на тестовых данных."
   ]
  },
  {
   "cell_type": "code",
   "execution_count": null,
   "metadata": {},
   "outputs": [],
   "source": [
    "model.load_weights('cnn-3.h5')\n",
    "_, score = model.evaluate(X_test, y_test, verbose=0)\n",
    "print(\"cnn 3, params: %d\" % model.count_params())\n",
    "print(\"cnn 3, score: {0:.3f}\".format(score))"
   ]
  }
 ],
 "metadata": {
  "kernelspec": {
   "display_name": "Python 3",
   "language": "python",
   "name": "python3"
  },
  "language_info": {
   "codemirror_mode": {
    "name": "ipython",
    "version": 3
   },
   "file_extension": ".py",
   "mimetype": "text/x-python",
   "name": "python",
   "nbconvert_exporter": "python",
   "pygments_lexer": "ipython3",
   "version": "3.6.8"
  }
 },
 "nbformat": 4,
 "nbformat_minor": 2
}
